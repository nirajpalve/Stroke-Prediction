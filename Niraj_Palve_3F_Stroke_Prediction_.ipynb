{
  "nbformat": 4,
  "nbformat_minor": 0,
  "metadata": {
    "colab": {
      "name": "Niraj Palve - 3F.Stroke Prediction .ipynb",
      "provenance": [],
      "collapsed_sections": [],
      "include_colab_link": true
    },
    "kernelspec": {
      "name": "python3",
      "display_name": "Python 3"
    },
    "language_info": {
      "name": "python"
    }
  },
  "cells": [
    {
      "cell_type": "markdown",
      "metadata": {
        "id": "view-in-github",
        "colab_type": "text"
      },
      "source": [
        "<a href=\"https://colab.research.google.com/github/nirajpalve/Stroke-Prediction/blob/main/Niraj_Palve_3F_Stroke_Prediction_.ipynb\" target=\"_parent\"><img src=\"https://colab.research.google.com/assets/colab-badge.svg\" alt=\"Open In Colab\"/></a>"
      ]
    },
    {
      "cell_type": "markdown",
      "source": [
        "Dataset -\n",
        "https://www.kaggle.com/datasets/fedesoriano/stroke-prediction-dataset"
      ],
      "metadata": {
        "id": "DKMz4M1VSppY"
      }
    },
    {
      "cell_type": "markdown",
      "source": [
        "# Problem Statement and Project Objective \n"
      ],
      "metadata": {
        "id": "jVEdXtTW2EK9"
      }
    },
    {
      "cell_type": "markdown",
      "source": [
        "Exaplin the problem statement. Business Problem and Objective clearly. Background Goal, Number of Resources, Business Impact, Time Taken\n",
        "\n"
      ],
      "metadata": {
        "id": "NRpWEZRD8pLp"
      }
    },
    {
      "cell_type": "code",
      "source": [],
      "metadata": {
        "id": "G_70djHB8u6y"
      },
      "execution_count": null,
      "outputs": []
    },
    {
      "cell_type": "code",
      "source": [],
      "metadata": {
        "id": "crqknLt18vCd"
      },
      "execution_count": null,
      "outputs": []
    },
    {
      "cell_type": "code",
      "source": [],
      "metadata": {
        "id": "MTMvpDNXuHhE"
      },
      "execution_count": null,
      "outputs": []
    },
    {
      "cell_type": "markdown",
      "source": [
        "# Data Exploration and Validation\n"
      ],
      "metadata": {
        "id": "7C1vjC5St_t0"
      }
    },
    {
      "cell_type": "markdown",
      "source": [
        "Data Exploration Steps for all the variables. Write down your findings after every variable exploration"
      ],
      "metadata": {
        "id": "jYvHWi8w83tg"
      }
    },
    {
      "cell_type": "code",
      "source": [],
      "metadata": {
        "id": "ye6t6jpO2c1F"
      },
      "execution_count": null,
      "outputs": []
    },
    {
      "cell_type": "code",
      "source": [],
      "metadata": {
        "id": "wtpjkxtHuJmD"
      },
      "execution_count": null,
      "outputs": []
    },
    {
      "cell_type": "code",
      "source": [],
      "metadata": {
        "id": "SFyJwEdmuJwK"
      },
      "execution_count": null,
      "outputs": []
    },
    {
      "cell_type": "markdown",
      "source": [
        "# Data Cleaning and Data Preparation"
      ],
      "metadata": {
        "id": "-EPlIzkSuFf6"
      }
    },
    {
      "cell_type": "markdown",
      "source": [
        "Write down Outlier treatment and missing value treatment code"
      ],
      "metadata": {
        "id": "vNPVzNbb-R0J"
      }
    },
    {
      "cell_type": "code",
      "source": [],
      "metadata": {
        "id": "0qUJKLisuP6C"
      },
      "execution_count": null,
      "outputs": []
    },
    {
      "cell_type": "code",
      "source": [],
      "metadata": {
        "id": "j-B2cvuSuP9b"
      },
      "execution_count": null,
      "outputs": []
    },
    {
      "cell_type": "markdown",
      "source": [
        "# Model Building & Feature Engineering\n",
        "Select the right model, Include Feature Engineering, Perform Model Validation, Multiple models and performance comparison\n"
      ],
      "metadata": {
        "id": "MPohYFNGvAgs"
      }
    },
    {
      "cell_type": "code",
      "source": [],
      "metadata": {
        "id": "CLfA9QM9vR6B"
      },
      "execution_count": null,
      "outputs": []
    },
    {
      "cell_type": "code",
      "source": [],
      "metadata": {
        "id": "WnR-d4DXvSBJ"
      },
      "execution_count": null,
      "outputs": []
    },
    {
      "cell_type": "markdown",
      "source": [
        "# Model Validation\n",
        "Confusion matrix, Sensitivity, Specificity, F1 Score, Recall, Precision etc."
      ],
      "metadata": {
        "id": "hafQufIYvTCS"
      }
    },
    {
      "cell_type": "code",
      "source": [],
      "metadata": {
        "id": "6RHq0EfVvkkz"
      },
      "execution_count": null,
      "outputs": []
    },
    {
      "cell_type": "code",
      "source": [],
      "metadata": {
        "id": "CRmdwZDIvkrP"
      },
      "execution_count": null,
      "outputs": []
    },
    {
      "cell_type": "code",
      "source": [],
      "metadata": {
        "id": "VbN-ze2YvkuY"
      },
      "execution_count": null,
      "outputs": []
    },
    {
      "cell_type": "markdown",
      "source": [
        "# Model  Deployment\n",
        "Optional step"
      ],
      "metadata": {
        "id": "CWYNRwm2vlDs"
      }
    },
    {
      "cell_type": "code",
      "source": [],
      "metadata": {
        "id": "ubQzEKTHvsUu"
      },
      "execution_count": null,
      "outputs": []
    },
    {
      "cell_type": "code",
      "source": [],
      "metadata": {
        "id": "456tAxZGvsYJ"
      },
      "execution_count": null,
      "outputs": []
    }
  ]
}