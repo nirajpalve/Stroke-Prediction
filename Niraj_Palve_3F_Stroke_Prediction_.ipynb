{
  "nbformat": 4,
  "nbformat_minor": 0,
  "metadata": {
    "colab": {
      "provenance": [],
      "collapsed_sections": [],
      "include_colab_link": true
    },
    "kernelspec": {
      "name": "python3",
      "display_name": "Python 3"
    },
    "language_info": {
      "name": "python"
    }
  },
  "cells": [
    {
      "cell_type": "markdown",
      "metadata": {
        "id": "view-in-github",
        "colab_type": "text"
      },
      "source": [
        "<a href=\"https://colab.research.google.com/github/nirajpalve/Stroke-Prediction/blob/main/Niraj_Palve_3F_Stroke_Prediction_.ipynb\" target=\"_parent\"><img src=\"https://colab.research.google.com/assets/colab-badge.svg\" alt=\"Open In Colab\"/></a>"
      ]
    },
    {
      "cell_type": "markdown",
      "source": [
        "# <center><font color = 'red'><b>  STROKE PREDICTION</b></font></center>"
      ],
      "metadata": {
        "id": "kFqDbETa1uD_"
      }
    },
    {
      "cell_type": "markdown",
      "source": [
        "![](https://media.istockphoto.com/photos/man-with-brain-stroke-symptoms-picture-id1168179082?k=20&m=1168179082&s=612x612&w=0&h=9OY1eRZhghhh4LPvsnxE5vx6G9tVF4piDqvRMrBdp3Y=)"
      ],
      "metadata": {
        "id": "20HVQ-4Y72Ln"
      }
    },
    {
      "cell_type": "markdown",
      "source": [
        "## <font color = 'blue'>Problem Statement :</font>\n",
        "- `A stroke occurs when the blood supply to part of your brain is interrupted or reduced, preventing brain tissue from getting oxygen and nutrients. Brain cells begin to die in minutes. A stroke is a medical emergency, and prompt treatment is crucial. Early action can reduce brain damage and other complications.`\n",
        "- `Determine what makes a person at risk for stroke.`\n",
        "- `Create a machine learning model to perform early detection of stroke for patients.`"
      ],
      "metadata": {
        "id": "fm-4qWvq6uw1"
      }
    },
    {
      "cell_type": "markdown",
      "source": [
        "# <font color = 'blue'><b>1 <span style='color:#0386f7de'>|</span> Importing Libraries & Loading Dataset</b></font>\n",
        "- **`For Data Manipulation`**: numpy, pandas, sklearn.\n",
        "- **`For Data Visualization`**: matplotlib, seaborn, plotly.\n",
        "- **`For ML Models`**: sklearn.\n"
      ],
      "metadata": {
        "id": "goMEHd259qC_"
      }
    },
    {
      "cell_type": "code",
      "source": [
        "import numpy as np      \n",
        "import pandas as pd                  ## Importing Libraries\n",
        "import seaborn as sns\n",
        "import matplotlib.pyplot as plt \n",
        "from sklearn.preprocessing import StandardScaler\n",
        "from sklearn.model_selection import train_test_split \n",
        "import statsmodels.formula.api as smf\n",
        "from sklearn import linear_model\n",
        "from sklearn.linear_model import LogisticRegression\n",
        "from sklearn.tree import DecisionTreeClassifier,plot_tree\n",
        "from sklearn.metrics import accuracy_score,recall_score,precision_score,confusion_matrix,classification_report,roc_auc_score,roc_curve\n",
        "import warnings \n",
        "warnings.filterwarnings('ignore')"
      ],
      "metadata": {
        "id": "Scqcb5x6-Xfu"
      },
      "execution_count": 1,
      "outputs": []
    },
    {
      "cell_type": "markdown",
      "source": [
        "Dataset -\n",
        "https://www.kaggle.com/datasets/fedesoriano/stroke-prediction-dataset"
      ],
      "metadata": {
        "id": "DKMz4M1VSppY"
      }
    },
    {
      "cell_type": "code",
      "source": [
        "url = 'https://raw.githubusercontent.com/nirajpalve/Stroke-Prediction/main/stroke-data.csv'"
      ],
      "metadata": {
        "id": "KqpGmucGkYbJ"
      },
      "execution_count": 2,
      "outputs": []
    },
    {
      "cell_type": "code",
      "source": [
        "data = pd.read_csv(url)    ## Loading Dataset\n",
        "data"
      ],
      "metadata": {
        "colab": {
          "base_uri": "https://localhost:8080/",
          "height": 424
        },
        "id": "fVOfuUQvjMgg",
        "outputId": "943e0ba1-db2c-437b-9657-e8df035538ea"
      },
      "execution_count": 3,
      "outputs": [
        {
          "output_type": "execute_result",
          "data": {
            "text/plain": [
              "         id  gender   age  hypertension  heart_disease ever_married  \\\n",
              "0      9046    Male  67.0             0              1          Yes   \n",
              "1     51676  Female  61.0             0              0          Yes   \n",
              "2     31112    Male  80.0             0              1          Yes   \n",
              "3     60182  Female  49.0             0              0          Yes   \n",
              "4      1665  Female  79.0             1              0          Yes   \n",
              "...     ...     ...   ...           ...            ...          ...   \n",
              "5105  18234  Female  80.0             1              0          Yes   \n",
              "5106  44873  Female  81.0             0              0          Yes   \n",
              "5107  19723  Female  35.0             0              0          Yes   \n",
              "5108  37544    Male  51.0             0              0          Yes   \n",
              "5109  44679  Female  44.0             0              0          Yes   \n",
              "\n",
              "          work_type Residence_type  avg_glucose_level   bmi   smoking_status  \\\n",
              "0           Private          Urban             228.69  36.6  formerly smoked   \n",
              "1     Self-employed          Rural             202.21   NaN     never smoked   \n",
              "2           Private          Rural             105.92  32.5     never smoked   \n",
              "3           Private          Urban             171.23  34.4           smokes   \n",
              "4     Self-employed          Rural             174.12  24.0     never smoked   \n",
              "...             ...            ...                ...   ...              ...   \n",
              "5105        Private          Urban              83.75   NaN     never smoked   \n",
              "5106  Self-employed          Urban             125.20  40.0     never smoked   \n",
              "5107  Self-employed          Rural              82.99  30.6     never smoked   \n",
              "5108        Private          Rural             166.29  25.6  formerly smoked   \n",
              "5109       Govt_job          Urban              85.28  26.2          Unknown   \n",
              "\n",
              "      stroke  \n",
              "0          1  \n",
              "1          1  \n",
              "2          1  \n",
              "3          1  \n",
              "4          1  \n",
              "...      ...  \n",
              "5105       0  \n",
              "5106       0  \n",
              "5107       0  \n",
              "5108       0  \n",
              "5109       0  \n",
              "\n",
              "[5110 rows x 12 columns]"
            ],
            "text/html": [
              "\n",
              "  <div id=\"df-488913ea-811b-460d-96b8-38505feec682\">\n",
              "    <div class=\"colab-df-container\">\n",
              "      <div>\n",
              "<style scoped>\n",
              "    .dataframe tbody tr th:only-of-type {\n",
              "        vertical-align: middle;\n",
              "    }\n",
              "\n",
              "    .dataframe tbody tr th {\n",
              "        vertical-align: top;\n",
              "    }\n",
              "\n",
              "    .dataframe thead th {\n",
              "        text-align: right;\n",
              "    }\n",
              "</style>\n",
              "<table border=\"1\" class=\"dataframe\">\n",
              "  <thead>\n",
              "    <tr style=\"text-align: right;\">\n",
              "      <th></th>\n",
              "      <th>id</th>\n",
              "      <th>gender</th>\n",
              "      <th>age</th>\n",
              "      <th>hypertension</th>\n",
              "      <th>heart_disease</th>\n",
              "      <th>ever_married</th>\n",
              "      <th>work_type</th>\n",
              "      <th>Residence_type</th>\n",
              "      <th>avg_glucose_level</th>\n",
              "      <th>bmi</th>\n",
              "      <th>smoking_status</th>\n",
              "      <th>stroke</th>\n",
              "    </tr>\n",
              "  </thead>\n",
              "  <tbody>\n",
              "    <tr>\n",
              "      <th>0</th>\n",
              "      <td>9046</td>\n",
              "      <td>Male</td>\n",
              "      <td>67.0</td>\n",
              "      <td>0</td>\n",
              "      <td>1</td>\n",
              "      <td>Yes</td>\n",
              "      <td>Private</td>\n",
              "      <td>Urban</td>\n",
              "      <td>228.69</td>\n",
              "      <td>36.6</td>\n",
              "      <td>formerly smoked</td>\n",
              "      <td>1</td>\n",
              "    </tr>\n",
              "    <tr>\n",
              "      <th>1</th>\n",
              "      <td>51676</td>\n",
              "      <td>Female</td>\n",
              "      <td>61.0</td>\n",
              "      <td>0</td>\n",
              "      <td>0</td>\n",
              "      <td>Yes</td>\n",
              "      <td>Self-employed</td>\n",
              "      <td>Rural</td>\n",
              "      <td>202.21</td>\n",
              "      <td>NaN</td>\n",
              "      <td>never smoked</td>\n",
              "      <td>1</td>\n",
              "    </tr>\n",
              "    <tr>\n",
              "      <th>2</th>\n",
              "      <td>31112</td>\n",
              "      <td>Male</td>\n",
              "      <td>80.0</td>\n",
              "      <td>0</td>\n",
              "      <td>1</td>\n",
              "      <td>Yes</td>\n",
              "      <td>Private</td>\n",
              "      <td>Rural</td>\n",
              "      <td>105.92</td>\n",
              "      <td>32.5</td>\n",
              "      <td>never smoked</td>\n",
              "      <td>1</td>\n",
              "    </tr>\n",
              "    <tr>\n",
              "      <th>3</th>\n",
              "      <td>60182</td>\n",
              "      <td>Female</td>\n",
              "      <td>49.0</td>\n",
              "      <td>0</td>\n",
              "      <td>0</td>\n",
              "      <td>Yes</td>\n",
              "      <td>Private</td>\n",
              "      <td>Urban</td>\n",
              "      <td>171.23</td>\n",
              "      <td>34.4</td>\n",
              "      <td>smokes</td>\n",
              "      <td>1</td>\n",
              "    </tr>\n",
              "    <tr>\n",
              "      <th>4</th>\n",
              "      <td>1665</td>\n",
              "      <td>Female</td>\n",
              "      <td>79.0</td>\n",
              "      <td>1</td>\n",
              "      <td>0</td>\n",
              "      <td>Yes</td>\n",
              "      <td>Self-employed</td>\n",
              "      <td>Rural</td>\n",
              "      <td>174.12</td>\n",
              "      <td>24.0</td>\n",
              "      <td>never smoked</td>\n",
              "      <td>1</td>\n",
              "    </tr>\n",
              "    <tr>\n",
              "      <th>...</th>\n",
              "      <td>...</td>\n",
              "      <td>...</td>\n",
              "      <td>...</td>\n",
              "      <td>...</td>\n",
              "      <td>...</td>\n",
              "      <td>...</td>\n",
              "      <td>...</td>\n",
              "      <td>...</td>\n",
              "      <td>...</td>\n",
              "      <td>...</td>\n",
              "      <td>...</td>\n",
              "      <td>...</td>\n",
              "    </tr>\n",
              "    <tr>\n",
              "      <th>5105</th>\n",
              "      <td>18234</td>\n",
              "      <td>Female</td>\n",
              "      <td>80.0</td>\n",
              "      <td>1</td>\n",
              "      <td>0</td>\n",
              "      <td>Yes</td>\n",
              "      <td>Private</td>\n",
              "      <td>Urban</td>\n",
              "      <td>83.75</td>\n",
              "      <td>NaN</td>\n",
              "      <td>never smoked</td>\n",
              "      <td>0</td>\n",
              "    </tr>\n",
              "    <tr>\n",
              "      <th>5106</th>\n",
              "      <td>44873</td>\n",
              "      <td>Female</td>\n",
              "      <td>81.0</td>\n",
              "      <td>0</td>\n",
              "      <td>0</td>\n",
              "      <td>Yes</td>\n",
              "      <td>Self-employed</td>\n",
              "      <td>Urban</td>\n",
              "      <td>125.20</td>\n",
              "      <td>40.0</td>\n",
              "      <td>never smoked</td>\n",
              "      <td>0</td>\n",
              "    </tr>\n",
              "    <tr>\n",
              "      <th>5107</th>\n",
              "      <td>19723</td>\n",
              "      <td>Female</td>\n",
              "      <td>35.0</td>\n",
              "      <td>0</td>\n",
              "      <td>0</td>\n",
              "      <td>Yes</td>\n",
              "      <td>Self-employed</td>\n",
              "      <td>Rural</td>\n",
              "      <td>82.99</td>\n",
              "      <td>30.6</td>\n",
              "      <td>never smoked</td>\n",
              "      <td>0</td>\n",
              "    </tr>\n",
              "    <tr>\n",
              "      <th>5108</th>\n",
              "      <td>37544</td>\n",
              "      <td>Male</td>\n",
              "      <td>51.0</td>\n",
              "      <td>0</td>\n",
              "      <td>0</td>\n",
              "      <td>Yes</td>\n",
              "      <td>Private</td>\n",
              "      <td>Rural</td>\n",
              "      <td>166.29</td>\n",
              "      <td>25.6</td>\n",
              "      <td>formerly smoked</td>\n",
              "      <td>0</td>\n",
              "    </tr>\n",
              "    <tr>\n",
              "      <th>5109</th>\n",
              "      <td>44679</td>\n",
              "      <td>Female</td>\n",
              "      <td>44.0</td>\n",
              "      <td>0</td>\n",
              "      <td>0</td>\n",
              "      <td>Yes</td>\n",
              "      <td>Govt_job</td>\n",
              "      <td>Urban</td>\n",
              "      <td>85.28</td>\n",
              "      <td>26.2</td>\n",
              "      <td>Unknown</td>\n",
              "      <td>0</td>\n",
              "    </tr>\n",
              "  </tbody>\n",
              "</table>\n",
              "<p>5110 rows × 12 columns</p>\n",
              "</div>\n",
              "      <button class=\"colab-df-convert\" onclick=\"convertToInteractive('df-488913ea-811b-460d-96b8-38505feec682')\"\n",
              "              title=\"Convert this dataframe to an interactive table.\"\n",
              "              style=\"display:none;\">\n",
              "        \n",
              "  <svg xmlns=\"http://www.w3.org/2000/svg\" height=\"24px\"viewBox=\"0 0 24 24\"\n",
              "       width=\"24px\">\n",
              "    <path d=\"M0 0h24v24H0V0z\" fill=\"none\"/>\n",
              "    <path d=\"M18.56 5.44l.94 2.06.94-2.06 2.06-.94-2.06-.94-.94-2.06-.94 2.06-2.06.94zm-11 1L8.5 8.5l.94-2.06 2.06-.94-2.06-.94L8.5 2.5l-.94 2.06-2.06.94zm10 10l.94 2.06.94-2.06 2.06-.94-2.06-.94-.94-2.06-.94 2.06-2.06.94z\"/><path d=\"M17.41 7.96l-1.37-1.37c-.4-.4-.92-.59-1.43-.59-.52 0-1.04.2-1.43.59L10.3 9.45l-7.72 7.72c-.78.78-.78 2.05 0 2.83L4 21.41c.39.39.9.59 1.41.59.51 0 1.02-.2 1.41-.59l7.78-7.78 2.81-2.81c.8-.78.8-2.07 0-2.86zM5.41 20L4 18.59l7.72-7.72 1.47 1.35L5.41 20z\"/>\n",
              "  </svg>\n",
              "      </button>\n",
              "      \n",
              "  <style>\n",
              "    .colab-df-container {\n",
              "      display:flex;\n",
              "      flex-wrap:wrap;\n",
              "      gap: 12px;\n",
              "    }\n",
              "\n",
              "    .colab-df-convert {\n",
              "      background-color: #E8F0FE;\n",
              "      border: none;\n",
              "      border-radius: 50%;\n",
              "      cursor: pointer;\n",
              "      display: none;\n",
              "      fill: #1967D2;\n",
              "      height: 32px;\n",
              "      padding: 0 0 0 0;\n",
              "      width: 32px;\n",
              "    }\n",
              "\n",
              "    .colab-df-convert:hover {\n",
              "      background-color: #E2EBFA;\n",
              "      box-shadow: 0px 1px 2px rgba(60, 64, 67, 0.3), 0px 1px 3px 1px rgba(60, 64, 67, 0.15);\n",
              "      fill: #174EA6;\n",
              "    }\n",
              "\n",
              "    [theme=dark] .colab-df-convert {\n",
              "      background-color: #3B4455;\n",
              "      fill: #D2E3FC;\n",
              "    }\n",
              "\n",
              "    [theme=dark] .colab-df-convert:hover {\n",
              "      background-color: #434B5C;\n",
              "      box-shadow: 0px 1px 3px 1px rgba(0, 0, 0, 0.15);\n",
              "      filter: drop-shadow(0px 1px 2px rgba(0, 0, 0, 0.3));\n",
              "      fill: #FFFFFF;\n",
              "    }\n",
              "  </style>\n",
              "\n",
              "      <script>\n",
              "        const buttonEl =\n",
              "          document.querySelector('#df-488913ea-811b-460d-96b8-38505feec682 button.colab-df-convert');\n",
              "        buttonEl.style.display =\n",
              "          google.colab.kernel.accessAllowed ? 'block' : 'none';\n",
              "\n",
              "        async function convertToInteractive(key) {\n",
              "          const element = document.querySelector('#df-488913ea-811b-460d-96b8-38505feec682');\n",
              "          const dataTable =\n",
              "            await google.colab.kernel.invokeFunction('convertToInteractive',\n",
              "                                                     [key], {});\n",
              "          if (!dataTable) return;\n",
              "\n",
              "          const docLinkHtml = 'Like what you see? Visit the ' +\n",
              "            '<a target=\"_blank\" href=https://colab.research.google.com/notebooks/data_table.ipynb>data table notebook</a>'\n",
              "            + ' to learn more about interactive tables.';\n",
              "          element.innerHTML = '';\n",
              "          dataTable['output_type'] = 'display_data';\n",
              "          await google.colab.output.renderOutput(dataTable, element);\n",
              "          const docLink = document.createElement('div');\n",
              "          docLink.innerHTML = docLinkHtml;\n",
              "          element.appendChild(docLink);\n",
              "        }\n",
              "      </script>\n",
              "    </div>\n",
              "  </div>\n",
              "  "
            ]
          },
          "metadata": {},
          "execution_count": 3
        }
      ]
    },
    {
      "cell_type": "markdown",
      "source": [
        "##  <font color = 'blue'> <span style='color:#0386f7de'>|</span> About the Dataset <a id=\"prep\"></a></font>"
      ],
      "metadata": {
        "id": "JPogsdmHBncp"
      }
    },
    {
      "cell_type": "markdown",
      "source": [
        "-`According to the World Health Organization (WHO) stroke is the 2nd leading cause of death globally, responsible for approximately 11% of total deaths. This dataset is used to predict whether a patient is likely to get stroke based on the input parameters like gender, age, various diseases, and smoking status. Each row in the data provides relavant information about the patient.`"
      ],
      "metadata": {
        "id": "jyK6idujdnXw"
      }
    },
    {
      "cell_type": "markdown",
      "source": [
        "-`Attribute Information`\n",
        "\n",
        "- `1) Id: Unique identifier.`\n",
        "- `2) Gender: \"Male\", \"Female\" or \"Other\".`\n",
        "- `3) Age: Age of the patient.`\n",
        "- `4) Hypertension: 0 if the patient doesn't have hypertension, 1 if the patient has hypertension.`\n",
        "- `5) Heart_disease: 0 if the patient doesn't have any heart diseases, 1 if the patient has a heart disease.`\n",
        "- `6) Ever_married: \"No\" or \"Yes\".`\n",
        "- `7) Work_type: \"Children\", \"Govt job\", \"Never worked\", \"Private\" or \"Self-employed\".`\n",
        "- `8) Residence_type: \"Rural\" or \"Urban\".`\n",
        "- `9) Avg_glucose_level: Average glucose level in blood.`\n",
        "- `10) BMI: Body Mass Index.`\n",
        "- `11) Smoking_status: \"formerly smoked\", \"never smoked\", \"smokes\" or \"Unknown\".`\n",
        "- `12) Stroke: 1 if the patient had a stroke or 0 if not.`\n"
      ],
      "metadata": {
        "id": "uaWPSFiEjjEf"
      }
    },
    {
      "cell_type": "markdown",
      "source": [
        "#  <font color = 'blue'><b>2 <span style='color:#0386f7de'>|</span> Exploratory Data Analysis(EDA) <a id=\"prep\"></a></font>"
      ],
      "metadata": {
        "id": "2pZmEJQ-UtNb"
      }
    },
    {
      "cell_type": "code",
      "source": [
        "data.info()  ## To check wheather null value exist or not "
      ],
      "metadata": {
        "colab": {
          "base_uri": "https://localhost:8080/"
        },
        "id": "X4xJzC0qBXvZ",
        "outputId": "7b416d9a-e7b5-469a-b8c7-fe404f983f12"
      },
      "execution_count": 4,
      "outputs": [
        {
          "output_type": "stream",
          "name": "stdout",
          "text": [
            "<class 'pandas.core.frame.DataFrame'>\n",
            "RangeIndex: 5110 entries, 0 to 5109\n",
            "Data columns (total 12 columns):\n",
            " #   Column             Non-Null Count  Dtype  \n",
            "---  ------             --------------  -----  \n",
            " 0   id                 5110 non-null   int64  \n",
            " 1   gender             5110 non-null   object \n",
            " 2   age                5110 non-null   float64\n",
            " 3   hypertension       5110 non-null   int64  \n",
            " 4   heart_disease      5110 non-null   int64  \n",
            " 5   ever_married       5110 non-null   object \n",
            " 6   work_type          5110 non-null   object \n",
            " 7   Residence_type     5110 non-null   object \n",
            " 8   avg_glucose_level  5110 non-null   float64\n",
            " 9   bmi                4909 non-null   float64\n",
            " 10  smoking_status     5110 non-null   object \n",
            " 11  stroke             5110 non-null   int64  \n",
            "dtypes: float64(3), int64(4), object(5)\n",
            "memory usage: 479.2+ KB\n"
          ]
        }
      ]
    },
    {
      "cell_type": "code",
      "source": [
        "data.isnull().sum()   ##  Drop nulls or treat null values as instructed"
      ],
      "metadata": {
        "colab": {
          "base_uri": "https://localhost:8080/"
        },
        "id": "CmunimizBXr0",
        "outputId": "56073d60-13bd-43da-df3b-a5be32474415"
      },
      "execution_count": 5,
      "outputs": [
        {
          "output_type": "execute_result",
          "data": {
            "text/plain": [
              "id                     0\n",
              "gender                 0\n",
              "age                    0\n",
              "hypertension           0\n",
              "heart_disease          0\n",
              "ever_married           0\n",
              "work_type              0\n",
              "Residence_type         0\n",
              "avg_glucose_level      0\n",
              "bmi                  201\n",
              "smoking_status         0\n",
              "stroke                 0\n",
              "dtype: int64"
            ]
          },
          "metadata": {},
          "execution_count": 5
        }
      ]
    },
    {
      "cell_type": "markdown",
      "source": [
        "#### The dataset contains some missing values in bmi column.Let's try to remove or fill that first before moving on. Looking into it I found that bmi mostly depends on age and gender. So trying to impute missing values based on gender.\n",
        "\n",
        "#### After looking the data we get to know that there are 201 NA values in _bmi_ column, so for treating the data we will put the nan values as median."
      ],
      "metadata": {
        "id": "E0ed_TDQfuLY"
      }
    },
    {
      "cell_type": "code",
      "source": [
        "data['bmi'].median()"
      ],
      "metadata": {
        "colab": {
          "base_uri": "https://localhost:8080/"
        },
        "id": "A0Kk-iI90M8p",
        "outputId": "0b1fff9a-72d2-443b-8f1a-3c6f3c446591"
      },
      "execution_count": 6,
      "outputs": [
        {
          "output_type": "execute_result",
          "data": {
            "text/plain": [
              "28.1"
            ]
          },
          "metadata": {},
          "execution_count": 6
        }
      ]
    },
    {
      "cell_type": "code",
      "source": [
        "data_1 = data.fillna(28.1)"
      ],
      "metadata": {
        "id": "jclU_O7jzQrQ"
      },
      "execution_count": 7,
      "outputs": []
    },
    {
      "cell_type": "code",
      "source": [
        "data_1"
      ],
      "metadata": {
        "colab": {
          "base_uri": "https://localhost:8080/",
          "height": 424
        },
        "id": "cjEQplprmEs1",
        "outputId": "23a71950-1c37-4de6-e2c4-24701acfb219"
      },
      "execution_count": 8,
      "outputs": [
        {
          "output_type": "execute_result",
          "data": {
            "text/plain": [
              "         id  gender   age  hypertension  heart_disease ever_married  \\\n",
              "0      9046    Male  67.0             0              1          Yes   \n",
              "1     51676  Female  61.0             0              0          Yes   \n",
              "2     31112    Male  80.0             0              1          Yes   \n",
              "3     60182  Female  49.0             0              0          Yes   \n",
              "4      1665  Female  79.0             1              0          Yes   \n",
              "...     ...     ...   ...           ...            ...          ...   \n",
              "5105  18234  Female  80.0             1              0          Yes   \n",
              "5106  44873  Female  81.0             0              0          Yes   \n",
              "5107  19723  Female  35.0             0              0          Yes   \n",
              "5108  37544    Male  51.0             0              0          Yes   \n",
              "5109  44679  Female  44.0             0              0          Yes   \n",
              "\n",
              "          work_type Residence_type  avg_glucose_level   bmi   smoking_status  \\\n",
              "0           Private          Urban             228.69  36.6  formerly smoked   \n",
              "1     Self-employed          Rural             202.21  28.1     never smoked   \n",
              "2           Private          Rural             105.92  32.5     never smoked   \n",
              "3           Private          Urban             171.23  34.4           smokes   \n",
              "4     Self-employed          Rural             174.12  24.0     never smoked   \n",
              "...             ...            ...                ...   ...              ...   \n",
              "5105        Private          Urban              83.75  28.1     never smoked   \n",
              "5106  Self-employed          Urban             125.20  40.0     never smoked   \n",
              "5107  Self-employed          Rural              82.99  30.6     never smoked   \n",
              "5108        Private          Rural             166.29  25.6  formerly smoked   \n",
              "5109       Govt_job          Urban              85.28  26.2          Unknown   \n",
              "\n",
              "      stroke  \n",
              "0          1  \n",
              "1          1  \n",
              "2          1  \n",
              "3          1  \n",
              "4          1  \n",
              "...      ...  \n",
              "5105       0  \n",
              "5106       0  \n",
              "5107       0  \n",
              "5108       0  \n",
              "5109       0  \n",
              "\n",
              "[5110 rows x 12 columns]"
            ],
            "text/html": [
              "\n",
              "  <div id=\"df-16ce06fa-d1e4-4c8a-a152-925ef8319720\">\n",
              "    <div class=\"colab-df-container\">\n",
              "      <div>\n",
              "<style scoped>\n",
              "    .dataframe tbody tr th:only-of-type {\n",
              "        vertical-align: middle;\n",
              "    }\n",
              "\n",
              "    .dataframe tbody tr th {\n",
              "        vertical-align: top;\n",
              "    }\n",
              "\n",
              "    .dataframe thead th {\n",
              "        text-align: right;\n",
              "    }\n",
              "</style>\n",
              "<table border=\"1\" class=\"dataframe\">\n",
              "  <thead>\n",
              "    <tr style=\"text-align: right;\">\n",
              "      <th></th>\n",
              "      <th>id</th>\n",
              "      <th>gender</th>\n",
              "      <th>age</th>\n",
              "      <th>hypertension</th>\n",
              "      <th>heart_disease</th>\n",
              "      <th>ever_married</th>\n",
              "      <th>work_type</th>\n",
              "      <th>Residence_type</th>\n",
              "      <th>avg_glucose_level</th>\n",
              "      <th>bmi</th>\n",
              "      <th>smoking_status</th>\n",
              "      <th>stroke</th>\n",
              "    </tr>\n",
              "  </thead>\n",
              "  <tbody>\n",
              "    <tr>\n",
              "      <th>0</th>\n",
              "      <td>9046</td>\n",
              "      <td>Male</td>\n",
              "      <td>67.0</td>\n",
              "      <td>0</td>\n",
              "      <td>1</td>\n",
              "      <td>Yes</td>\n",
              "      <td>Private</td>\n",
              "      <td>Urban</td>\n",
              "      <td>228.69</td>\n",
              "      <td>36.6</td>\n",
              "      <td>formerly smoked</td>\n",
              "      <td>1</td>\n",
              "    </tr>\n",
              "    <tr>\n",
              "      <th>1</th>\n",
              "      <td>51676</td>\n",
              "      <td>Female</td>\n",
              "      <td>61.0</td>\n",
              "      <td>0</td>\n",
              "      <td>0</td>\n",
              "      <td>Yes</td>\n",
              "      <td>Self-employed</td>\n",
              "      <td>Rural</td>\n",
              "      <td>202.21</td>\n",
              "      <td>28.1</td>\n",
              "      <td>never smoked</td>\n",
              "      <td>1</td>\n",
              "    </tr>\n",
              "    <tr>\n",
              "      <th>2</th>\n",
              "      <td>31112</td>\n",
              "      <td>Male</td>\n",
              "      <td>80.0</td>\n",
              "      <td>0</td>\n",
              "      <td>1</td>\n",
              "      <td>Yes</td>\n",
              "      <td>Private</td>\n",
              "      <td>Rural</td>\n",
              "      <td>105.92</td>\n",
              "      <td>32.5</td>\n",
              "      <td>never smoked</td>\n",
              "      <td>1</td>\n",
              "    </tr>\n",
              "    <tr>\n",
              "      <th>3</th>\n",
              "      <td>60182</td>\n",
              "      <td>Female</td>\n",
              "      <td>49.0</td>\n",
              "      <td>0</td>\n",
              "      <td>0</td>\n",
              "      <td>Yes</td>\n",
              "      <td>Private</td>\n",
              "      <td>Urban</td>\n",
              "      <td>171.23</td>\n",
              "      <td>34.4</td>\n",
              "      <td>smokes</td>\n",
              "      <td>1</td>\n",
              "    </tr>\n",
              "    <tr>\n",
              "      <th>4</th>\n",
              "      <td>1665</td>\n",
              "      <td>Female</td>\n",
              "      <td>79.0</td>\n",
              "      <td>1</td>\n",
              "      <td>0</td>\n",
              "      <td>Yes</td>\n",
              "      <td>Self-employed</td>\n",
              "      <td>Rural</td>\n",
              "      <td>174.12</td>\n",
              "      <td>24.0</td>\n",
              "      <td>never smoked</td>\n",
              "      <td>1</td>\n",
              "    </tr>\n",
              "    <tr>\n",
              "      <th>...</th>\n",
              "      <td>...</td>\n",
              "      <td>...</td>\n",
              "      <td>...</td>\n",
              "      <td>...</td>\n",
              "      <td>...</td>\n",
              "      <td>...</td>\n",
              "      <td>...</td>\n",
              "      <td>...</td>\n",
              "      <td>...</td>\n",
              "      <td>...</td>\n",
              "      <td>...</td>\n",
              "      <td>...</td>\n",
              "    </tr>\n",
              "    <tr>\n",
              "      <th>5105</th>\n",
              "      <td>18234</td>\n",
              "      <td>Female</td>\n",
              "      <td>80.0</td>\n",
              "      <td>1</td>\n",
              "      <td>0</td>\n",
              "      <td>Yes</td>\n",
              "      <td>Private</td>\n",
              "      <td>Urban</td>\n",
              "      <td>83.75</td>\n",
              "      <td>28.1</td>\n",
              "      <td>never smoked</td>\n",
              "      <td>0</td>\n",
              "    </tr>\n",
              "    <tr>\n",
              "      <th>5106</th>\n",
              "      <td>44873</td>\n",
              "      <td>Female</td>\n",
              "      <td>81.0</td>\n",
              "      <td>0</td>\n",
              "      <td>0</td>\n",
              "      <td>Yes</td>\n",
              "      <td>Self-employed</td>\n",
              "      <td>Urban</td>\n",
              "      <td>125.20</td>\n",
              "      <td>40.0</td>\n",
              "      <td>never smoked</td>\n",
              "      <td>0</td>\n",
              "    </tr>\n",
              "    <tr>\n",
              "      <th>5107</th>\n",
              "      <td>19723</td>\n",
              "      <td>Female</td>\n",
              "      <td>35.0</td>\n",
              "      <td>0</td>\n",
              "      <td>0</td>\n",
              "      <td>Yes</td>\n",
              "      <td>Self-employed</td>\n",
              "      <td>Rural</td>\n",
              "      <td>82.99</td>\n",
              "      <td>30.6</td>\n",
              "      <td>never smoked</td>\n",
              "      <td>0</td>\n",
              "    </tr>\n",
              "    <tr>\n",
              "      <th>5108</th>\n",
              "      <td>37544</td>\n",
              "      <td>Male</td>\n",
              "      <td>51.0</td>\n",
              "      <td>0</td>\n",
              "      <td>0</td>\n",
              "      <td>Yes</td>\n",
              "      <td>Private</td>\n",
              "      <td>Rural</td>\n",
              "      <td>166.29</td>\n",
              "      <td>25.6</td>\n",
              "      <td>formerly smoked</td>\n",
              "      <td>0</td>\n",
              "    </tr>\n",
              "    <tr>\n",
              "      <th>5109</th>\n",
              "      <td>44679</td>\n",
              "      <td>Female</td>\n",
              "      <td>44.0</td>\n",
              "      <td>0</td>\n",
              "      <td>0</td>\n",
              "      <td>Yes</td>\n",
              "      <td>Govt_job</td>\n",
              "      <td>Urban</td>\n",
              "      <td>85.28</td>\n",
              "      <td>26.2</td>\n",
              "      <td>Unknown</td>\n",
              "      <td>0</td>\n",
              "    </tr>\n",
              "  </tbody>\n",
              "</table>\n",
              "<p>5110 rows × 12 columns</p>\n",
              "</div>\n",
              "      <button class=\"colab-df-convert\" onclick=\"convertToInteractive('df-16ce06fa-d1e4-4c8a-a152-925ef8319720')\"\n",
              "              title=\"Convert this dataframe to an interactive table.\"\n",
              "              style=\"display:none;\">\n",
              "        \n",
              "  <svg xmlns=\"http://www.w3.org/2000/svg\" height=\"24px\"viewBox=\"0 0 24 24\"\n",
              "       width=\"24px\">\n",
              "    <path d=\"M0 0h24v24H0V0z\" fill=\"none\"/>\n",
              "    <path d=\"M18.56 5.44l.94 2.06.94-2.06 2.06-.94-2.06-.94-.94-2.06-.94 2.06-2.06.94zm-11 1L8.5 8.5l.94-2.06 2.06-.94-2.06-.94L8.5 2.5l-.94 2.06-2.06.94zm10 10l.94 2.06.94-2.06 2.06-.94-2.06-.94-.94-2.06-.94 2.06-2.06.94z\"/><path d=\"M17.41 7.96l-1.37-1.37c-.4-.4-.92-.59-1.43-.59-.52 0-1.04.2-1.43.59L10.3 9.45l-7.72 7.72c-.78.78-.78 2.05 0 2.83L4 21.41c.39.39.9.59 1.41.59.51 0 1.02-.2 1.41-.59l7.78-7.78 2.81-2.81c.8-.78.8-2.07 0-2.86zM5.41 20L4 18.59l7.72-7.72 1.47 1.35L5.41 20z\"/>\n",
              "  </svg>\n",
              "      </button>\n",
              "      \n",
              "  <style>\n",
              "    .colab-df-container {\n",
              "      display:flex;\n",
              "      flex-wrap:wrap;\n",
              "      gap: 12px;\n",
              "    }\n",
              "\n",
              "    .colab-df-convert {\n",
              "      background-color: #E8F0FE;\n",
              "      border: none;\n",
              "      border-radius: 50%;\n",
              "      cursor: pointer;\n",
              "      display: none;\n",
              "      fill: #1967D2;\n",
              "      height: 32px;\n",
              "      padding: 0 0 0 0;\n",
              "      width: 32px;\n",
              "    }\n",
              "\n",
              "    .colab-df-convert:hover {\n",
              "      background-color: #E2EBFA;\n",
              "      box-shadow: 0px 1px 2px rgba(60, 64, 67, 0.3), 0px 1px 3px 1px rgba(60, 64, 67, 0.15);\n",
              "      fill: #174EA6;\n",
              "    }\n",
              "\n",
              "    [theme=dark] .colab-df-convert {\n",
              "      background-color: #3B4455;\n",
              "      fill: #D2E3FC;\n",
              "    }\n",
              "\n",
              "    [theme=dark] .colab-df-convert:hover {\n",
              "      background-color: #434B5C;\n",
              "      box-shadow: 0px 1px 3px 1px rgba(0, 0, 0, 0.15);\n",
              "      filter: drop-shadow(0px 1px 2px rgba(0, 0, 0, 0.3));\n",
              "      fill: #FFFFFF;\n",
              "    }\n",
              "  </style>\n",
              "\n",
              "      <script>\n",
              "        const buttonEl =\n",
              "          document.querySelector('#df-16ce06fa-d1e4-4c8a-a152-925ef8319720 button.colab-df-convert');\n",
              "        buttonEl.style.display =\n",
              "          google.colab.kernel.accessAllowed ? 'block' : 'none';\n",
              "\n",
              "        async function convertToInteractive(key) {\n",
              "          const element = document.querySelector('#df-16ce06fa-d1e4-4c8a-a152-925ef8319720');\n",
              "          const dataTable =\n",
              "            await google.colab.kernel.invokeFunction('convertToInteractive',\n",
              "                                                     [key], {});\n",
              "          if (!dataTable) return;\n",
              "\n",
              "          const docLinkHtml = 'Like what you see? Visit the ' +\n",
              "            '<a target=\"_blank\" href=https://colab.research.google.com/notebooks/data_table.ipynb>data table notebook</a>'\n",
              "            + ' to learn more about interactive tables.';\n",
              "          element.innerHTML = '';\n",
              "          dataTable['output_type'] = 'display_data';\n",
              "          await google.colab.output.renderOutput(dataTable, element);\n",
              "          const docLink = document.createElement('div');\n",
              "          docLink.innerHTML = docLinkHtml;\n",
              "          element.appendChild(docLink);\n",
              "        }\n",
              "      </script>\n",
              "    </div>\n",
              "  </div>\n",
              "  "
            ]
          },
          "metadata": {},
          "execution_count": 8
        }
      ]
    },
    {
      "cell_type": "code",
      "source": [
        "data_1.info()  ## we can see that inour data we dont have any null values"
      ],
      "metadata": {
        "colab": {
          "base_uri": "https://localhost:8080/"
        },
        "id": "-GYba8N4mEqG",
        "outputId": "1b6ca9e2-82a4-438f-c5c3-1b3e37ce34b5"
      },
      "execution_count": 9,
      "outputs": [
        {
          "output_type": "stream",
          "name": "stdout",
          "text": [
            "<class 'pandas.core.frame.DataFrame'>\n",
            "RangeIndex: 5110 entries, 0 to 5109\n",
            "Data columns (total 12 columns):\n",
            " #   Column             Non-Null Count  Dtype  \n",
            "---  ------             --------------  -----  \n",
            " 0   id                 5110 non-null   int64  \n",
            " 1   gender             5110 non-null   object \n",
            " 2   age                5110 non-null   float64\n",
            " 3   hypertension       5110 non-null   int64  \n",
            " 4   heart_disease      5110 non-null   int64  \n",
            " 5   ever_married       5110 non-null   object \n",
            " 6   work_type          5110 non-null   object \n",
            " 7   Residence_type     5110 non-null   object \n",
            " 8   avg_glucose_level  5110 non-null   float64\n",
            " 9   bmi                5110 non-null   float64\n",
            " 10  smoking_status     5110 non-null   object \n",
            " 11  stroke             5110 non-null   int64  \n",
            "dtypes: float64(3), int64(4), object(5)\n",
            "memory usage: 479.2+ KB\n"
          ]
        }
      ]
    },
    {
      "cell_type": "code",
      "source": [
        "data.drop(index = data[data['gender']=='Other'].index[0] , axis=0, inplace = True)  ## Dropping other-gender from gender's column"
      ],
      "metadata": {
        "id": "0M3U9sd10qea"
      },
      "execution_count": 10,
      "outputs": []
    },
    {
      "cell_type": "code",
      "source": [
        "data.drop('id', axis = 1, inplace = True)  ## Removing 'id' column from the data."
      ],
      "metadata": {
        "id": "M_0vL3B10nt0"
      },
      "execution_count": 11,
      "outputs": []
    },
    {
      "cell_type": "code",
      "source": [
        "df = data_1  "
      ],
      "metadata": {
        "id": "AQXZqUcK1FCI"
      },
      "execution_count": 12,
      "outputs": []
    },
    {
      "cell_type": "code",
      "source": [
        "df.describe()  ## Describe the data."
      ],
      "metadata": {
        "id": "crqknLt18vCd",
        "colab": {
          "base_uri": "https://localhost:8080/",
          "height": 300
        },
        "outputId": "46f9c4e9-3d76-43c6-a71e-62ce1da21290"
      },
      "execution_count": 13,
      "outputs": [
        {
          "output_type": "execute_result",
          "data": {
            "text/plain": [
              "                 id          age  hypertension  heart_disease  \\\n",
              "count   5110.000000  5110.000000   5110.000000    5110.000000   \n",
              "mean   36517.829354    43.226614      0.097456       0.054012   \n",
              "std    21161.721625    22.612647      0.296607       0.226063   \n",
              "min       67.000000     0.080000      0.000000       0.000000   \n",
              "25%    17741.250000    25.000000      0.000000       0.000000   \n",
              "50%    36932.000000    45.000000      0.000000       0.000000   \n",
              "75%    54682.000000    61.000000      0.000000       0.000000   \n",
              "max    72940.000000    82.000000      1.000000       1.000000   \n",
              "\n",
              "       avg_glucose_level          bmi       stroke  \n",
              "count        5110.000000  5110.000000  5110.000000  \n",
              "mean          106.147677    28.862035     0.048728  \n",
              "std            45.283560     7.699562     0.215320  \n",
              "min            55.120000    10.300000     0.000000  \n",
              "25%            77.245000    23.800000     0.000000  \n",
              "50%            91.885000    28.100000     0.000000  \n",
              "75%           114.090000    32.800000     0.000000  \n",
              "max           271.740000    97.600000     1.000000  "
            ],
            "text/html": [
              "\n",
              "  <div id=\"df-ebefea0f-c8e7-490e-8606-be96b4aceee2\">\n",
              "    <div class=\"colab-df-container\">\n",
              "      <div>\n",
              "<style scoped>\n",
              "    .dataframe tbody tr th:only-of-type {\n",
              "        vertical-align: middle;\n",
              "    }\n",
              "\n",
              "    .dataframe tbody tr th {\n",
              "        vertical-align: top;\n",
              "    }\n",
              "\n",
              "    .dataframe thead th {\n",
              "        text-align: right;\n",
              "    }\n",
              "</style>\n",
              "<table border=\"1\" class=\"dataframe\">\n",
              "  <thead>\n",
              "    <tr style=\"text-align: right;\">\n",
              "      <th></th>\n",
              "      <th>id</th>\n",
              "      <th>age</th>\n",
              "      <th>hypertension</th>\n",
              "      <th>heart_disease</th>\n",
              "      <th>avg_glucose_level</th>\n",
              "      <th>bmi</th>\n",
              "      <th>stroke</th>\n",
              "    </tr>\n",
              "  </thead>\n",
              "  <tbody>\n",
              "    <tr>\n",
              "      <th>count</th>\n",
              "      <td>5110.000000</td>\n",
              "      <td>5110.000000</td>\n",
              "      <td>5110.000000</td>\n",
              "      <td>5110.000000</td>\n",
              "      <td>5110.000000</td>\n",
              "      <td>5110.000000</td>\n",
              "      <td>5110.000000</td>\n",
              "    </tr>\n",
              "    <tr>\n",
              "      <th>mean</th>\n",
              "      <td>36517.829354</td>\n",
              "      <td>43.226614</td>\n",
              "      <td>0.097456</td>\n",
              "      <td>0.054012</td>\n",
              "      <td>106.147677</td>\n",
              "      <td>28.862035</td>\n",
              "      <td>0.048728</td>\n",
              "    </tr>\n",
              "    <tr>\n",
              "      <th>std</th>\n",
              "      <td>21161.721625</td>\n",
              "      <td>22.612647</td>\n",
              "      <td>0.296607</td>\n",
              "      <td>0.226063</td>\n",
              "      <td>45.283560</td>\n",
              "      <td>7.699562</td>\n",
              "      <td>0.215320</td>\n",
              "    </tr>\n",
              "    <tr>\n",
              "      <th>min</th>\n",
              "      <td>67.000000</td>\n",
              "      <td>0.080000</td>\n",
              "      <td>0.000000</td>\n",
              "      <td>0.000000</td>\n",
              "      <td>55.120000</td>\n",
              "      <td>10.300000</td>\n",
              "      <td>0.000000</td>\n",
              "    </tr>\n",
              "    <tr>\n",
              "      <th>25%</th>\n",
              "      <td>17741.250000</td>\n",
              "      <td>25.000000</td>\n",
              "      <td>0.000000</td>\n",
              "      <td>0.000000</td>\n",
              "      <td>77.245000</td>\n",
              "      <td>23.800000</td>\n",
              "      <td>0.000000</td>\n",
              "    </tr>\n",
              "    <tr>\n",
              "      <th>50%</th>\n",
              "      <td>36932.000000</td>\n",
              "      <td>45.000000</td>\n",
              "      <td>0.000000</td>\n",
              "      <td>0.000000</td>\n",
              "      <td>91.885000</td>\n",
              "      <td>28.100000</td>\n",
              "      <td>0.000000</td>\n",
              "    </tr>\n",
              "    <tr>\n",
              "      <th>75%</th>\n",
              "      <td>54682.000000</td>\n",
              "      <td>61.000000</td>\n",
              "      <td>0.000000</td>\n",
              "      <td>0.000000</td>\n",
              "      <td>114.090000</td>\n",
              "      <td>32.800000</td>\n",
              "      <td>0.000000</td>\n",
              "    </tr>\n",
              "    <tr>\n",
              "      <th>max</th>\n",
              "      <td>72940.000000</td>\n",
              "      <td>82.000000</td>\n",
              "      <td>1.000000</td>\n",
              "      <td>1.000000</td>\n",
              "      <td>271.740000</td>\n",
              "      <td>97.600000</td>\n",
              "      <td>1.000000</td>\n",
              "    </tr>\n",
              "  </tbody>\n",
              "</table>\n",
              "</div>\n",
              "      <button class=\"colab-df-convert\" onclick=\"convertToInteractive('df-ebefea0f-c8e7-490e-8606-be96b4aceee2')\"\n",
              "              title=\"Convert this dataframe to an interactive table.\"\n",
              "              style=\"display:none;\">\n",
              "        \n",
              "  <svg xmlns=\"http://www.w3.org/2000/svg\" height=\"24px\"viewBox=\"0 0 24 24\"\n",
              "       width=\"24px\">\n",
              "    <path d=\"M0 0h24v24H0V0z\" fill=\"none\"/>\n",
              "    <path d=\"M18.56 5.44l.94 2.06.94-2.06 2.06-.94-2.06-.94-.94-2.06-.94 2.06-2.06.94zm-11 1L8.5 8.5l.94-2.06 2.06-.94-2.06-.94L8.5 2.5l-.94 2.06-2.06.94zm10 10l.94 2.06.94-2.06 2.06-.94-2.06-.94-.94-2.06-.94 2.06-2.06.94z\"/><path d=\"M17.41 7.96l-1.37-1.37c-.4-.4-.92-.59-1.43-.59-.52 0-1.04.2-1.43.59L10.3 9.45l-7.72 7.72c-.78.78-.78 2.05 0 2.83L4 21.41c.39.39.9.59 1.41.59.51 0 1.02-.2 1.41-.59l7.78-7.78 2.81-2.81c.8-.78.8-2.07 0-2.86zM5.41 20L4 18.59l7.72-7.72 1.47 1.35L5.41 20z\"/>\n",
              "  </svg>\n",
              "      </button>\n",
              "      \n",
              "  <style>\n",
              "    .colab-df-container {\n",
              "      display:flex;\n",
              "      flex-wrap:wrap;\n",
              "      gap: 12px;\n",
              "    }\n",
              "\n",
              "    .colab-df-convert {\n",
              "      background-color: #E8F0FE;\n",
              "      border: none;\n",
              "      border-radius: 50%;\n",
              "      cursor: pointer;\n",
              "      display: none;\n",
              "      fill: #1967D2;\n",
              "      height: 32px;\n",
              "      padding: 0 0 0 0;\n",
              "      width: 32px;\n",
              "    }\n",
              "\n",
              "    .colab-df-convert:hover {\n",
              "      background-color: #E2EBFA;\n",
              "      box-shadow: 0px 1px 2px rgba(60, 64, 67, 0.3), 0px 1px 3px 1px rgba(60, 64, 67, 0.15);\n",
              "      fill: #174EA6;\n",
              "    }\n",
              "\n",
              "    [theme=dark] .colab-df-convert {\n",
              "      background-color: #3B4455;\n",
              "      fill: #D2E3FC;\n",
              "    }\n",
              "\n",
              "    [theme=dark] .colab-df-convert:hover {\n",
              "      background-color: #434B5C;\n",
              "      box-shadow: 0px 1px 3px 1px rgba(0, 0, 0, 0.15);\n",
              "      filter: drop-shadow(0px 1px 2px rgba(0, 0, 0, 0.3));\n",
              "      fill: #FFFFFF;\n",
              "    }\n",
              "  </style>\n",
              "\n",
              "      <script>\n",
              "        const buttonEl =\n",
              "          document.querySelector('#df-ebefea0f-c8e7-490e-8606-be96b4aceee2 button.colab-df-convert');\n",
              "        buttonEl.style.display =\n",
              "          google.colab.kernel.accessAllowed ? 'block' : 'none';\n",
              "\n",
              "        async function convertToInteractive(key) {\n",
              "          const element = document.querySelector('#df-ebefea0f-c8e7-490e-8606-be96b4aceee2');\n",
              "          const dataTable =\n",
              "            await google.colab.kernel.invokeFunction('convertToInteractive',\n",
              "                                                     [key], {});\n",
              "          if (!dataTable) return;\n",
              "\n",
              "          const docLinkHtml = 'Like what you see? Visit the ' +\n",
              "            '<a target=\"_blank\" href=https://colab.research.google.com/notebooks/data_table.ipynb>data table notebook</a>'\n",
              "            + ' to learn more about interactive tables.';\n",
              "          element.innerHTML = '';\n",
              "          dataTable['output_type'] = 'display_data';\n",
              "          await google.colab.output.renderOutput(dataTable, element);\n",
              "          const docLink = document.createElement('div');\n",
              "          docLink.innerHTML = docLinkHtml;\n",
              "          element.appendChild(docLink);\n",
              "        }\n",
              "      </script>\n",
              "    </div>\n",
              "  </div>\n",
              "  "
            ]
          },
          "metadata": {},
          "execution_count": 13
        }
      ]
    },
    {
      "cell_type": "markdown",
      "source": [
        "#  <font color = 'blue'><b>3 <span style='color:#0386f7de'>|</span> Data Visualization <a id=\"prep\"></a></font>"
      ],
      "metadata": {
        "id": "Vj-Mh8lQTkMV"
      }
    },
    {
      "cell_type": "markdown",
      "source": [
        "##  <font color = 'green'> <span style='color:#0386f7de'>|</span> Categorical Data <a id=\"prep\"></a></font>"
      ],
      "metadata": {
        "id": "9xK7RohYfMEl"
      }
    },
    {
      "cell_type": "markdown",
      "source": [
        "###  <font color = 'green'>1.1 <span style='color:#0386f7de'>|</span> Gender <a id=\"prep\"></a></font>"
      ],
      "metadata": {
        "id": "5jbMgnG-ff8g"
      }
    },
    {
      "cell_type": "code",
      "source": [
        "# This will help to give us information about it's unique values and count of each value.\n",
        "print('Unique values\\n',df['gender'].unique())\n",
        "print('Value Counts\\n',df['gender'].value_counts())"
      ],
      "metadata": {
        "colab": {
          "base_uri": "https://localhost:8080/"
        },
        "id": "_3whvRPhFK5C",
        "outputId": "f23bd39d-8f23-4b6b-9d1a-82b2a3618d4d"
      },
      "execution_count": 14,
      "outputs": [
        {
          "output_type": "stream",
          "name": "stdout",
          "text": [
            "Unique values\n",
            " ['Male' 'Female' 'Other']\n",
            "Value Counts\n",
            " Female    2994\n",
            "Male      2115\n",
            "Other        1\n",
            "Name: gender, dtype: int64\n"
          ]
        }
      ]
    },
    {
      "cell_type": "code",
      "source": [
        "fig, axes = plt.subplots(1, 2, sharex=True, figsize=(15,5))      ## Gender Visualization.\n",
        "sns.countplot(df['gender'], data=df, ax = axes[0])\n",
        "sns.countplot(df['gender'], hue='stroke', data=df, ax = axes[1])\n",
        "plt.show()"
      ],
      "metadata": {
        "id": "HGeaVxmvZAXQ",
        "colab": {
          "base_uri": "https://localhost:8080/",
          "height": 334
        },
        "outputId": "5c06ec7b-d86c-4c9a-f8a5-fc23b9dc1683"
      },
      "execution_count": 15,
      "outputs": [
        {
          "output_type": "display_data",
          "data": {
            "text/plain": [
              "<Figure size 1080x360 with 2 Axes>"
            ],
            "image/png": "[encoded data removed]"
          },
          "metadata": {
            "needs_background": "light"
          }
        }
      ]
    },
    {
      "cell_type": "markdown",
      "source": [
        "Observation:- We can see that, there is not much difference between stroke rate concerning gender."
      ],
      "metadata": {
        "id": "NK3BpGLFFukI"
      }
    },
    {
      "cell_type": "markdown",
      "source": [
        "###  <font color = 'green'>1.2 <span style='color:#0386f7de'>|</span> Hypertension <a id=\"prep\"></a></font>"
      ],
      "metadata": {
        "id": "088w6NxdgJJd"
      }
    },
    {
      "cell_type": "code",
      "source": [
        "# This will help to give us information about it's unique values and count of each value.\n",
        "print('Unique values\\n',df['hypertension'].unique())\n",
        "print('Value Counts\\n',df['hypertension'].value_counts())"
      ],
      "metadata": {
        "colab": {
          "base_uri": "https://localhost:8080/"
        },
        "id": "W9Dn5pOrGJGQ",
        "outputId": "6927c55d-a71c-4165-c36b-02a35939f2e0"
      },
      "execution_count": 16,
      "outputs": [
        {
          "output_type": "stream",
          "name": "stdout",
          "text": [
            "Unique values\n",
            " [0 1]\n",
            "Value Counts\n",
            " 0    4612\n",
            "1     498\n",
            "Name: hypertension, dtype: int64\n"
          ]
        }
      ]
    },
    {
      "cell_type": "code",
      "source": [
        "fig, axes = plt.subplots(1, 2, sharex=True, figsize=(15,5))      ## Hypertension Visualization.\n",
        "sns.countplot(df['hypertension'], data=df, ax = axes[0])\n",
        "sns.countplot(df['hypertension'], hue='stroke', data=df, ax = axes[1])\n",
        "plt.show()"
      ],
      "metadata": {
        "colab": {
          "base_uri": "https://localhost:8080/",
          "height": 334
        },
        "id": "YmeimADoTD8g",
        "outputId": "d9a77593-aed9-4a24-850b-9586ef5f4575"
      },
      "execution_count": 17,
      "outputs": [
        {
          "output_type": "display_data",
          "data": {
            "text/plain": [
              "<Figure size 1080x360 with 2 Axes>"
            ],
            "image/png": "[encoded data removed]"
          },
          "metadata": {
            "needs_background": "light"
          }
        }
      ]
    },
    {
      "cell_type": "markdown",
      "source": [
        "Observation:- Hypertension is rare in young people and common in aged people. Hypertension can cause a stroke. It has quite little data on patients having hypertension."
      ],
      "metadata": {
        "id": "iut2017NGjuN"
      }
    },
    {
      "cell_type": "markdown",
      "source": [
        "###  <font color = 'green'>1.3 <span style='color:#0386f7de'>|</span> Heart Disease <a id=\"prep\"></a></font>"
      ],
      "metadata": {
        "id": "b1j7Pyihgfof"
      }
    },
    {
      "cell_type": "code",
      "source": [
        "# This will help to give us information about it's unique values and count of each value.\n",
        "print('Unique values\\n',df['heart_disease'].unique())\n",
        "print('Value Counts\\n',df['heart_disease'].value_counts())"
      ],
      "metadata": {
        "id": "2-7W3R8lH8OR",
        "outputId": "80434f15-9ced-44aa-ef5e-986d29e63304",
        "colab": {
          "base_uri": "https://localhost:8080/"
        }
      },
      "execution_count": 18,
      "outputs": [
        {
          "output_type": "stream",
          "name": "stdout",
          "text": [
            "Unique values\n",
            " [1 0]\n",
            "Value Counts\n",
            " 0    4834\n",
            "1     276\n",
            "Name: heart_disease, dtype: int64\n"
          ]
        }
      ]
    },
    {
      "cell_type": "code",
      "source": [
        "fig, axes = plt.subplots(1, 2, sharex=True, figsize=(15,5))      ## Heart_Disease Visualization.\n",
        "sns.countplot(df['heart_disease'], data=df, ax = axes[0])\n",
        "sns.countplot(df['heart_disease'], hue='stroke', data=df, ax = axes[1])\n",
        "plt.show()"
      ],
      "metadata": {
        "colab": {
          "base_uri": "https://localhost:8080/",
          "height": 335
        },
        "id": "nM2rYPlDZaW7",
        "outputId": "f3346bc2-74ae-456e-ac76-f70829e02640"
      },
      "execution_count": 19,
      "outputs": [
        {
          "output_type": "display_data",
          "data": {
            "text/plain": [
              "<Figure size 1080x360 with 2 Axes>"
            ],
            "image/png": "[encoded data removed]"
          },
          "metadata": {
            "needs_background": "light"
          }
        }
      ]
    },
    {
      "cell_type": "markdown",
      "source": [
        "It’s a little bit difficult to get an idea. But as per this plot, we can say that heart disease is not affecting Stroke."
      ],
      "metadata": {
        "id": "JnyFO5PDIAcb"
      }
    },
    {
      "cell_type": "markdown",
      "source": [
        "###  <font color = 'green'>1.4 <span style='color:#0386f7de'>|</span> Marital Status <a id=\"prep\"></a></font>"
      ],
      "metadata": {
        "id": "E6ujEC2Oh366"
      }
    },
    {
      "cell_type": "code",
      "source": [
        "# This will help to give us information about it's unique values and count of each value.\n",
        "print('Unique values\\n',df['ever_married'].unique())\n",
        "print('Value Counts\\n',df['ever_married'].value_counts())"
      ],
      "metadata": {
        "colab": {
          "base_uri": "https://localhost:8080/"
        },
        "id": "Hu6c_7fJvWeP",
        "outputId": "3cdd07af-d6cf-4ae8-cc50-1f9205e041cf"
      },
      "execution_count": 20,
      "outputs": [
        {
          "output_type": "stream",
          "name": "stdout",
          "text": [
            "Unique values\n",
            " ['Yes' 'No']\n",
            "Value Counts\n",
            " Yes    3353\n",
            "No     1757\n",
            "Name: ever_married, dtype: int64\n"
          ]
        }
      ]
    },
    {
      "cell_type": "code",
      "source": [
        "fig, axes = plt.subplots(1, 2, sharex=True, figsize=(15,5))      ## Ever_Married Visualization.\n",
        "sns.countplot(df['ever_married'], data=df, ax = axes[0])\n",
        "sns.countplot(df['ever_married'], hue='stroke', data=df, ax = axes[1])\n",
        "plt.show()"
      ],
      "metadata": {
        "colab": {
          "base_uri": "https://localhost:8080/",
          "height": 337
        },
        "id": "UK8x7KSXZagq",
        "outputId": "e5225499-b329-4986-b24a-08b6d2701c0f"
      },
      "execution_count": 21,
      "outputs": [
        {
          "output_type": "display_data",
          "data": {
            "text/plain": [
              "<Figure size 1080x360 with 2 Axes>"
            ],
            "image/png": "[encoded data removed]"
          },
          "metadata": {
            "needs_background": "light"
          }
        }
      ]
    },
    {
      "cell_type": "markdown",
      "source": [
        "As per the plot, there is little bit possibility that married person can have stroke."
      ],
      "metadata": {
        "id": "WeXYM7PSvf0c"
      }
    },
    {
      "cell_type": "markdown",
      "source": [
        "###  <font color = 'green'>1.5 <span style='color:#0386f7de'>|</span> Work Type <a id=\"prep\"></a></font>"
      ],
      "metadata": {
        "id": "NKf1P3ykiK7g"
      }
    },
    {
      "cell_type": "code",
      "source": [
        "# This will help to give us information about it's unique values and count of each value.\n",
        "print('Unique values\\n',df['work_type'].unique())\n",
        "print('Value Counts\\n',df['work_type'].value_counts())"
      ],
      "metadata": {
        "colab": {
          "base_uri": "https://localhost:8080/"
        },
        "id": "8GTWppJkw1br",
        "outputId": "f112f63a-4a16-4393-d5d1-f8e35e9f7a3b"
      },
      "execution_count": 22,
      "outputs": [
        {
          "output_type": "stream",
          "name": "stdout",
          "text": [
            "Unique values\n",
            " ['Private' 'Self-employed' 'Govt_job' 'children' 'Never_worked']\n",
            "Value Counts\n",
            " Private          2925\n",
            "Self-employed     819\n",
            "children          687\n",
            "Govt_job          657\n",
            "Never_worked       22\n",
            "Name: work_type, dtype: int64\n"
          ]
        }
      ]
    },
    {
      "cell_type": "code",
      "source": [
        "fig, axes = plt.subplots(1, 2, sharex=True, figsize=(15,5))      ## Work_Type Visualization.\n",
        "sns.countplot(df['work_type'], data=df, ax = axes[0])\n",
        "sns.countplot(df['work_type'], hue='stroke', data=df, ax = axes[1])\n",
        "plt.show()"
      ],
      "metadata": {
        "colab": {
          "base_uri": "https://localhost:8080/",
          "height": 336
        },
        "id": "MLM46APDZa1k",
        "outputId": "0c3221b7-2321-4417-c859-8991046e11d7"
      },
      "execution_count": 23,
      "outputs": [
        {
          "output_type": "display_data",
          "data": {
            "text/plain": [
              "<Figure size 1080x360 with 2 Axes>"
            ],
            "image/png": "[encoded data removed]"
          },
          "metadata": {
            "needs_background": "light"
          }
        }
      ]
    },
    {
      "cell_type": "markdown",
      "source": [
        "People working in the Private sector have a higher risk of getting a stroke. And people who have never worked have a very less stroke rate."
      ],
      "metadata": {
        "id": "KZ9Ov2L_w5_R"
      }
    },
    {
      "cell_type": "markdown",
      "source": [
        "###  <font color = 'green'>1.6 <span style='color:#0386f7de'>|</span> Residence Type <a id=\"prep\"></a></font>"
      ],
      "metadata": {
        "id": "QCgqYcVriTq-"
      }
    },
    {
      "cell_type": "code",
      "source": [
        "# This will help to give us information about it's unique values and count of each value.\n",
        "print('Unique values\\n',df['Residence_type'].unique())\n",
        "print('Value Counts\\n',df['Residence_type'].value_counts())"
      ],
      "metadata": {
        "colab": {
          "base_uri": "https://localhost:8080/"
        },
        "id": "nKdaLX3IxKnM",
        "outputId": "13c39a14-c965-4f66-c78b-5da0d625e897"
      },
      "execution_count": 24,
      "outputs": [
        {
          "output_type": "stream",
          "name": "stdout",
          "text": [
            "Unique values\n",
            " ['Urban' 'Rural']\n",
            "Value Counts\n",
            " Urban    2596\n",
            "Rural    2514\n",
            "Name: Residence_type, dtype: int64\n"
          ]
        }
      ]
    },
    {
      "cell_type": "code",
      "source": [
        "fig, axes = plt.subplots(1, 2, sharex=True, figsize=(15,5))      ## Residence_Type Visualization.\n",
        "sns.countplot(df['Residence_type'], data=df, ax = axes[0])\n",
        "sns.countplot(df['Residence_type'], hue='stroke', data=df, ax = axes[1])\n",
        "plt.show()"
      ],
      "metadata": {
        "colab": {
          "base_uri": "https://localhost:8080/",
          "height": 335
        },
        "id": "UdIrMeDoZYQd",
        "outputId": "de15587c-f716-4960-bc71-016d8e1b7306"
      },
      "execution_count": 25,
      "outputs": [
        {
          "output_type": "display_data",
          "data": {
            "text/plain": [
              "<Figure size 1080x360 with 2 Axes>"
            ],
            "image/png": "[encoded data removed]"
          },
          "metadata": {
            "needs_background": "light"
          }
        }
      ]
    },
    {
      "cell_type": "markdown",
      "source": [
        "As we can see there not much difference in both attribute values. "
      ],
      "metadata": {
        "id": "8PRJ2QmnxRNS"
      }
    },
    {
      "cell_type": "markdown",
      "source": [
        "###  <font color = 'green'>1.7 <span style='color:#0386f7de'>|</span> Smoking Status <a id=\"prep\"></a></font>"
      ],
      "metadata": {
        "id": "_U5kG7LtijXq"
      }
    },
    {
      "cell_type": "code",
      "source": [
        "# This will help to give us information about it's unique values and count of each value.\n",
        "print('Unique values\\n',df['smoking_status'].unique())\n",
        "print('Value Counts\\n',df['smoking_status'].value_counts())"
      ],
      "metadata": {
        "colab": {
          "base_uri": "https://localhost:8080/"
        },
        "id": "48jhCTXmygDa",
        "outputId": "ad2625f2-80dd-45fc-c9f5-5033a9125121"
      },
      "execution_count": 26,
      "outputs": [
        {
          "output_type": "stream",
          "name": "stdout",
          "text": [
            "Unique values\n",
            " ['formerly smoked' 'never smoked' 'smokes' 'Unknown']\n",
            "Value Counts\n",
            " never smoked       1892\n",
            "Unknown            1544\n",
            "formerly smoked     885\n",
            "smokes              789\n",
            "Name: smoking_status, dtype: int64\n"
          ]
        }
      ]
    },
    {
      "cell_type": "code",
      "source": [
        "fig, axes = plt.subplots(1, 2, sharex=True, figsize=(15,5))      ## Smoking_Status Visualization.\n",
        "sns.countplot(df['smoking_status'], data=df, ax = axes[0])\n",
        "sns.countplot(df['smoking_status'], hue='stroke', data=df, ax = axes[1])\n",
        "plt.show()"
      ],
      "metadata": {
        "colab": {
          "base_uri": "https://localhost:8080/",
          "height": 335
        },
        "id": "-8xYy47Nat0u",
        "outputId": "260b29c5-a202-46ea-efcf-b6386b8791f1"
      },
      "execution_count": 27,
      "outputs": [
        {
          "output_type": "display_data",
          "data": {
            "text/plain": [
              "<Figure size 1080x360 with 2 Axes>"
            ],
            "image/png": "[encoded data removed]"
          },
          "metadata": {
            "needs_background": "light"
          }
        }
      ]
    },
    {
      "cell_type": "markdown",
      "source": [
        "As per these plots, we can see there is not much difference in the chances of stroke irrespective of smoking status."
      ],
      "metadata": {
        "id": "mcQ6xYeCym-F"
      }
    },
    {
      "cell_type": "markdown",
      "source": [
        "###  <font color = 'green'>1.8 <span style='color:#0386f7de'>|</span> Stroke <a id=\"prep\"></a></font>"
      ],
      "metadata": {
        "id": "FfTHP1J9X_w1"
      }
    },
    {
      "cell_type": "code",
      "source": [
        "plt.title(\"Stroke\")     ## Stroke Visualization\n",
        "plt.pie(np.array(df['stroke'].value_counts()),labels=['Non Stroke','Stroke'],explode=[0,0.2],autopct='%1.1f%%')\n",
        "plt.show()"
      ],
      "metadata": {
        "colab": {
          "base_uri": "https://localhost:8080/",
          "height": 264
        },
        "id": "zLoPWFLyVP8W",
        "outputId": "18990663-edb3-4d4f-85b4-dea7ce43ac1c"
      },
      "execution_count": 28,
      "outputs": [
        {
          "output_type": "display_data",
          "data": {
            "text/plain": [
              "<Figure size 432x288 with 1 Axes>"
            ],
            "image/png": "[encoded data removed]"
          },
          "metadata": {}
        }
      ]
    },
    {
      "cell_type": "markdown",
      "source": [
        "##  <font color = 'green'> <span style='color:#0386f7de'>|</span> Numerical Data <a id=\"prep\"></a></font>"
      ],
      "metadata": {
        "id": "y1TEUWrTkSwl"
      }
    },
    {
      "cell_type": "markdown",
      "source": [
        "###  <font color = 'green'>2.1 <span style='color:#0386f7de'>|</span> Age <a id=\"prep\"></a></font>"
      ],
      "metadata": {
        "id": "LXwE7JYojb9J"
      }
    },
    {
      "cell_type": "code",
      "source": [
        "fig,ax=plt.subplots(1,3,figsize=(15,5))\n",
        "sns.histplot(df['age'], ax = ax[0], kde=True)     ## Age Visualization\n",
        "sns.boxplot(data = df, x = df['age'], ax = ax[1])\n",
        "sns.violinplot(data = df, x = df['age'], ax = ax[2])\n",
        "plt.show()"
      ],
      "metadata": {
        "id": "R5VtNbqpnUYy",
        "colab": {
          "base_uri": "https://localhost:8080/",
          "height": 334
        },
        "outputId": "adcc9fde-dcc8-491e-cc25-1dc84ce838cb"
      },
      "execution_count": 29,
      "outputs": [
        {
          "output_type": "display_data",
          "data": {
            "text/plain": [
              "<Figure size 1080x360 with 3 Axes>"
            ],
            "image/png": "[encoded data removed]"
          },
          "metadata": {
            "needs_background": "light"
          }
        }
      ]
    },
    {
      "cell_type": "markdown",
      "source": [
        "###  <font color = 'green'>2.2 <span style='color:#0386f7de'>|</span> Average_glucose_level <a id=\"prep\"></a></font>"
      ],
      "metadata": {
        "id": "Vo-w2pM9jlJB"
      }
    },
    {
      "cell_type": "code",
      "source": [
        "fig,ax=plt.subplots(1,3,figsize=(15,5))\n",
        "sns.histplot(df['avg_glucose_level'], ax = ax[0], kde=True)    ## Glucose_level Visualization\n",
        "sns.boxplot(data = df, x = df['avg_glucose_level'], ax = ax[1])\n",
        "sns.violinplot(data = df, x = df['avg_glucose_level'], ax = ax[2])\n",
        "plt.show()"
      ],
      "metadata": {
        "id": "D5L8PPU8nUWC",
        "colab": {
          "base_uri": "https://localhost:8080/",
          "height": 335
        },
        "outputId": "f9a13245-1ae3-4c42-a784-60ad08a2992c"
      },
      "execution_count": 30,
      "outputs": [
        {
          "output_type": "display_data",
          "data": {
            "text/plain": [
              "<Figure size 1080x360 with 3 Axes>"
            ],
            "image/png": "[encoded data removed]"
          },
          "metadata": {
            "needs_background": "light"
          }
        }
      ]
    },
    {
      "cell_type": "markdown",
      "source": [
        "### [Link](https://www.lark.com/resources/blood-sugar-chart)\n",
        "\n",
        "There are outliers present in avgerage_glucose column, we dont have to remove the outliers.\n",
        "\n",
        "If we will not remove it will be help to our model to predict or perform well."
      ],
      "metadata": {
        "id": "pxtsbH7i7pRH"
      }
    },
    {
      "cell_type": "markdown",
      "source": [
        "###  <font color = 'green'>2.3 <span style='color:#0386f7de'>|</span>BMI <a id=\"prep\"></a></font>"
      ],
      "metadata": {
        "id": "xy8IINOAjv02"
      }
    },
    {
      "cell_type": "code",
      "source": [
        "fig,ax=plt.subplots(1,3,figsize=(15,5))\n",
        "sns.histplot(df['bmi'], ax = ax[0], kde=True)     ## BMI Visualization\n",
        "sns.boxplot(data = df, x = df['bmi'], ax = ax[1])\n",
        "sns.violinplot(data = df, x = df['bmi'], ax = ax[2])\n",
        "plt.show()"
      ],
      "metadata": {
        "id": "sOfXB7eBnURC",
        "colab": {
          "base_uri": "https://localhost:8080/",
          "height": 334
        },
        "outputId": "e1eb6b53-b95c-46cb-f08c-4c2ecfd51791"
      },
      "execution_count": 31,
      "outputs": [
        {
          "output_type": "display_data",
          "data": {
            "text/plain": [
              "<Figure size 1080x360 with 3 Axes>"
            ],
            "image/png": "[encoded data removed]"
          },
          "metadata": {
            "needs_background": "light"
          }
        }
      ]
    },
    {
      "cell_type": "markdown",
      "source": [
        "Looking at the BMI Visualization of box plot, we can see there are outliers in our data."
      ],
      "metadata": {
        "id": "JgF2hsKuVDPE"
      }
    },
    {
      "cell_type": "code",
      "source": [
        "util_percentiles=df['bmi'].quantile([0.05, 0.1, 0.25, 0.5, 0.75, 0.80, 0.9,0.91,0.93,0.95,0.96,0.97,0.975,0.98,0.99,1])\n",
        "round(util_percentiles,2)"
      ],
      "metadata": {
        "colab": {
          "base_uri": "https://localhost:8080/"
        },
        "id": "scKJgzNFavPN",
        "outputId": "64fa3b05-72f2-4e50-ed27-3cca26b2f074"
      },
      "execution_count": 32,
      "outputs": [
        {
          "output_type": "execute_result",
          "data": {
            "text/plain": [
              "0.050    17.70\n",
              "0.100    19.89\n",
              "0.250    23.80\n",
              "0.500    28.10\n",
              "0.750    32.80\n",
              "0.800    34.30\n",
              "0.900    38.70\n",
              "0.910    39.30\n",
              "0.930    40.80\n",
              "0.950    42.66\n",
              "0.960    43.80\n",
              "0.970    45.10\n",
              "0.975    46.10\n",
              "0.980    48.08\n",
              "0.990    52.89\n",
              "1.000    97.60\n",
              "Name: bmi, dtype: float64"
            ]
          },
          "metadata": {},
          "execution_count": 32
        }
      ]
    },
    {
      "cell_type": "code",
      "source": [
        "print((df['bmi']>42).sum())  ## Total number of outliers from BMI column\n",
        "print((df['bmi']<15).sum())  "
      ],
      "metadata": {
        "colab": {
          "base_uri": "https://localhost:8080/"
        },
        "id": "0-ci1AMdZJPS",
        "outputId": "c2524a0e-eb5f-4151-eaca-ed3d06e1c13a"
      },
      "execution_count": 33,
      "outputs": [
        {
          "output_type": "stream",
          "name": "stdout",
          "text": [
            "283\n",
            "42\n"
          ]
        }
      ]
    },
    {
      "cell_type": "code",
      "source": [
        "((df['bmi']>42).sum()/len(df['bmi']))*100  ## Approximately 5.5% of BMI data is outlier. "
      ],
      "metadata": {
        "colab": {
          "base_uri": "https://localhost:8080/"
        },
        "id": "p5FFEANnizTh",
        "outputId": "bf72763e-f89f-4bdd-f094-2c8bd17cae6e"
      },
      "execution_count": 34,
      "outputs": [
        {
          "output_type": "execute_result",
          "data": {
            "text/plain": [
              "5.53816046966732"
            ]
          },
          "metadata": {},
          "execution_count": 34
        }
      ]
    },
    {
      "cell_type": "code",
      "source": [
        "((df['bmi']<15).sum()/len(df['bmi']))*100  ## Approximately 0.8% of BMI data is outlier."
      ],
      "metadata": {
        "colab": {
          "base_uri": "https://localhost:8080/"
        },
        "id": "pAPM8rcbb-Be",
        "outputId": "be7f9121-a7bf-467c-da39-09f690205832"
      },
      "execution_count": 35,
      "outputs": [
        {
          "output_type": "execute_result",
          "data": {
            "text/plain": [
              "0.821917808219178"
            ]
          },
          "metadata": {},
          "execution_count": 35
        }
      ]
    },
    {
      "cell_type": "code",
      "source": [
        "df['bmi'].median()  ## Median of bmi column"
      ],
      "metadata": {
        "colab": {
          "base_uri": "https://localhost:8080/"
        },
        "id": "latqJjosZJMY",
        "outputId": "56f155a2-1cfe-4ad1-9519-8c737ee9a6c5"
      },
      "execution_count": 36,
      "outputs": [
        {
          "output_type": "execute_result",
          "data": {
            "text/plain": [
              "28.1"
            ]
          },
          "metadata": {},
          "execution_count": 36
        }
      ]
    },
    {
      "cell_type": "code",
      "source": [
        "df['bmi_1']=df['bmi']   ##   Imputation with median\n",
        "df['bmi_1'][df['bmi']>42]=df['bmi'].median()\n",
        "df['bmi_1'][df['bmi']<15]=df['bmi'].median()\n",
        "round(df['bmi_1'].describe())"
      ],
      "metadata": {
        "colab": {
          "base_uri": "https://localhost:8080/"
        },
        "id": "iKhTlMMoa708",
        "outputId": "3e84a8a4-8df7-441b-b6e9-e762d80e0633"
      },
      "execution_count": 37,
      "outputs": [
        {
          "output_type": "execute_result",
          "data": {
            "text/plain": [
              "count    5110.0\n",
              "mean       28.0\n",
              "std         6.0\n",
              "min        15.0\n",
              "25%        24.0\n",
              "50%        28.0\n",
              "75%        32.0\n",
              "max        42.0\n",
              "Name: bmi_1, dtype: float64"
            ]
          },
          "metadata": {},
          "execution_count": 37
        }
      ]
    },
    {
      "cell_type": "code",
      "source": [
        "sns.boxplot(data = df, x = df['bmi_1'])\n",
        "plt.show()"
      ],
      "metadata": {
        "colab": {
          "base_uri": "https://localhost:8080/",
          "height": 280
        },
        "id": "huq00KuQa-dQ",
        "outputId": "a696645d-80e9-4a29-9f57-c34f56c6c065"
      },
      "execution_count": 38,
      "outputs": [
        {
          "output_type": "display_data",
          "data": {
            "text/plain": [
              "<Figure size 432x288 with 1 Axes>"
            ],
            "image/png": "[encoded data removed]"
          },
          "metadata": {
            "needs_background": "light"
          }
        }
      ]
    },
    {
      "cell_type": "code",
      "source": [
        "df.drop('bmi', axis = 1, inplace = True )  ## Dropping earlier column of bmi"
      ],
      "metadata": {
        "id": "wwMCcFvJc02t"
      },
      "execution_count": 39,
      "outputs": []
    },
    {
      "cell_type": "markdown",
      "source": [
        "##  <font color = 'green'> <span style='color:#0386f7de'>|</span> Over Sampling <a id=\"prep\"></a></font>"
      ],
      "metadata": {
        "id": "4yuRIS3u5lK7"
      }
    },
    {
      "cell_type": "markdown",
      "source": [
        "After looking our stroke visualization, we can tell that our data is not equally distributed. So here we will use over sampling method to balance our target variable."
      ],
      "metadata": {
        "id": "bzumyG4D5qdW"
      }
    },
    {
      "cell_type": "code",
      "source": [
        "class_count_yes,class_count_no = df['stroke'].value_counts()\n",
        "class_yes  = df[df['stroke']==1]\n",
        "class_no   = df[df['stroke']==0]\n",
        "print('Class Yes :',class_yes.shape)\n",
        "print('Class No  :',class_no.shape)"
      ],
      "metadata": {
        "colab": {
          "base_uri": "https://localhost:8080/"
        },
        "id": "_PZl3j985nEf",
        "outputId": "6c720274-c654-4257-b793-5fa4e1f44b7e"
      },
      "execution_count": 40,
      "outputs": [
        {
          "output_type": "stream",
          "name": "stdout",
          "text": [
            "Class Yes : (249, 12)\n",
            "Class No  : (4861, 12)\n"
          ]
        }
      ]
    },
    {
      "cell_type": "code",
      "source": [
        "class_yes_over = class_yes.sample(n=4860,random_state=15,replace=True)\n",
        "df_1 = pd.concat([class_yes_over,class_no],axis=0)"
      ],
      "metadata": {
        "id": "pEcnQncn5m-z"
      },
      "execution_count": 41,
      "outputs": []
    },
    {
      "cell_type": "code",
      "source": [
        "df_1.shape"
      ],
      "metadata": {
        "colab": {
          "base_uri": "https://localhost:8080/"
        },
        "id": "1dU6iv9a5m4j",
        "outputId": "a3975a0a-5a54-4d56-faa6-e449c4496442"
      },
      "execution_count": 42,
      "outputs": [
        {
          "output_type": "execute_result",
          "data": {
            "text/plain": [
              "(9721, 12)"
            ]
          },
          "metadata": {},
          "execution_count": 42
        }
      ]
    },
    {
      "cell_type": "code",
      "source": [
        "df_1.value_counts(df_1['stroke'])"
      ],
      "metadata": {
        "colab": {
          "base_uri": "https://localhost:8080/"
        },
        "id": "HhRvLqI_5j3R",
        "outputId": "e5d702ef-e785-4c63-8e86-4bb255fe9fd5"
      },
      "execution_count": 43,
      "outputs": [
        {
          "output_type": "execute_result",
          "data": {
            "text/plain": [
              "stroke\n",
              "0    4861\n",
              "1    4860\n",
              "dtype: int64"
            ]
          },
          "metadata": {},
          "execution_count": 43
        }
      ]
    },
    {
      "cell_type": "code",
      "source": [
        "plt.figure(figsize=(8,5))\n",
        "plt.pie(x=df_1['stroke'].value_counts(),explode=(0.05,0),autopct='%1.0f%%',labels=['Yes','No'])\n",
        "plt.show()"
      ],
      "metadata": {
        "colab": {
          "base_uri": "https://localhost:8080/",
          "height": 303
        },
        "id": "JNUxtWhk6Lg7",
        "outputId": "7bda3a29-593d-4d0d-9517-e0dbad6c431f"
      },
      "execution_count": 44,
      "outputs": [
        {
          "output_type": "display_data",
          "data": {
            "text/plain": [
              "<Figure size 576x360 with 1 Axes>"
            ],
            "image/png": "[encoded data removed]"
          },
          "metadata": {}
        }
      ]
    },
    {
      "cell_type": "markdown",
      "source": [
        "##  <font color = 'blue'><b>4 <span style='color:#0386f7de'>|</span> Data Preprocessing <a id=\"prep\"></a></font>"
      ],
      "metadata": {
        "id": "K37k7BF3kVnW"
      }
    },
    {
      "cell_type": "markdown",
      "source": [
        "###  <font color = 'green'>4.1 <span style='color:#0386f7de'>|</span> One Hot Encoding  <a id=\"prep\"></a></font>"
      ],
      "metadata": {
        "id": "Kn5a-mbA5-Zp"
      }
    },
    {
      "cell_type": "code",
      "source": [
        "num_cols = ['age','avg_glucose_level','bmi_1']         ## Dividing numerical and categorical data for  \n",
        "cat_cols = ['gender','ever_married','work_type','Residence_type','smoking_status']"
      ],
      "metadata": {
        "id": "9DTt5_VnkkVk"
      },
      "execution_count": 45,
      "outputs": []
    },
    {
      "cell_type": "code",
      "source": [
        "df_enc = pd.get_dummies(df_1[cat_cols], drop_first=True)\n",
        "df_enc.head()"
      ],
      "metadata": {
        "id": "4FsdeUXBkkQa",
        "outputId": "c31ea624-bb04-4b4d-ad59-6ba12bb32f8f",
        "colab": {
          "base_uri": "https://localhost:8080/",
          "height": 287
        }
      },
      "execution_count": 46,
      "outputs": [
        {
          "output_type": "execute_result",
          "data": {
            "text/plain": [
              "     gender_Male  gender_Other  ever_married_Yes  work_type_Never_worked  \\\n",
              "200            1             0                 1                       0   \n",
              "245            0             0                 0                       0   \n",
              "140            1             0                 1                       0   \n",
              "133            0             0                 1                       0   \n",
              "119            0             0                 1                       0   \n",
              "\n",
              "     work_type_Private  work_type_Self-employed  work_type_children  \\\n",
              "200                  1                        0                   0   \n",
              "245                  0                        0                   1   \n",
              "140                  0                        0                   0   \n",
              "133                  1                        0                   0   \n",
              "119                  1                        0                   0   \n",
              "\n",
              "     Residence_type_Urban  smoking_status_formerly smoked  \\\n",
              "200                     1                               0   \n",
              "245                     0                               0   \n",
              "140                     0                               0   \n",
              "133                     0                               1   \n",
              "119                     1                               0   \n",
              "\n",
              "     smoking_status_never smoked  smoking_status_smokes  \n",
              "200                            0                      0  \n",
              "245                            0                      0  \n",
              "140                            1                      0  \n",
              "133                            0                      0  \n",
              "119                            1                      0  "
            ],
            "text/html": [
              "\n",
              "  <div id=\"df-5087b75b-dc22-452c-9a5f-bde4d068fa36\">\n",
              "    <div class=\"colab-df-container\">\n",
              "      <div>\n",
              "<style scoped>\n",
              "    .dataframe tbody tr th:only-of-type {\n",
              "        vertical-align: middle;\n",
              "    }\n",
              "\n",
              "    .dataframe tbody tr th {\n",
              "        vertical-align: top;\n",
              "    }\n",
              "\n",
              "    .dataframe thead th {\n",
              "        text-align: right;\n",
              "    }\n",
              "</style>\n",
              "<table border=\"1\" class=\"dataframe\">\n",
              "  <thead>\n",
              "    <tr style=\"text-align: right;\">\n",
              "      <th></th>\n",
              "      <th>gender_Male</th>\n",
              "      <th>gender_Other</th>\n",
              "      <th>ever_married_Yes</th>\n",
              "      <th>work_type_Never_worked</th>\n",
              "      <th>work_type_Private</th>\n",
              "      <th>work_type_Self-employed</th>\n",
              "      <th>work_type_children</th>\n",
              "      <th>Residence_type_Urban</th>\n",
              "      <th>smoking_status_formerly smoked</th>\n",
              "      <th>smoking_status_never smoked</th>\n",
              "      <th>smoking_status_smokes</th>\n",
              "    </tr>\n",
              "  </thead>\n",
              "  <tbody>\n",
              "    <tr>\n",
              "      <th>200</th>\n",
              "      <td>1</td>\n",
              "      <td>0</td>\n",
              "      <td>1</td>\n",
              "      <td>0</td>\n",
              "      <td>1</td>\n",
              "      <td>0</td>\n",
              "      <td>0</td>\n",
              "      <td>1</td>\n",
              "      <td>0</td>\n",
              "      <td>0</td>\n",
              "      <td>0</td>\n",
              "    </tr>\n",
              "    <tr>\n",
              "      <th>245</th>\n",
              "      <td>0</td>\n",
              "      <td>0</td>\n",
              "      <td>0</td>\n",
              "      <td>0</td>\n",
              "      <td>0</td>\n",
              "      <td>0</td>\n",
              "      <td>1</td>\n",
              "      <td>0</td>\n",
              "      <td>0</td>\n",
              "      <td>0</td>\n",
              "      <td>0</td>\n",
              "    </tr>\n",
              "    <tr>\n",
              "      <th>140</th>\n",
              "      <td>1</td>\n",
              "      <td>0</td>\n",
              "      <td>1</td>\n",
              "      <td>0</td>\n",
              "      <td>0</td>\n",
              "      <td>0</td>\n",
              "      <td>0</td>\n",
              "      <td>0</td>\n",
              "      <td>0</td>\n",
              "      <td>1</td>\n",
              "      <td>0</td>\n",
              "    </tr>\n",
              "    <tr>\n",
              "      <th>133</th>\n",
              "      <td>0</td>\n",
              "      <td>0</td>\n",
              "      <td>1</td>\n",
              "      <td>0</td>\n",
              "      <td>1</td>\n",
              "      <td>0</td>\n",
              "      <td>0</td>\n",
              "      <td>0</td>\n",
              "      <td>1</td>\n",
              "      <td>0</td>\n",
              "      <td>0</td>\n",
              "    </tr>\n",
              "    <tr>\n",
              "      <th>119</th>\n",
              "      <td>0</td>\n",
              "      <td>0</td>\n",
              "      <td>1</td>\n",
              "      <td>0</td>\n",
              "      <td>1</td>\n",
              "      <td>0</td>\n",
              "      <td>0</td>\n",
              "      <td>1</td>\n",
              "      <td>0</td>\n",
              "      <td>1</td>\n",
              "      <td>0</td>\n",
              "    </tr>\n",
              "  </tbody>\n",
              "</table>\n",
              "</div>\n",
              "      <button class=\"colab-df-convert\" onclick=\"convertToInteractive('df-5087b75b-dc22-452c-9a5f-bde4d068fa36')\"\n",
              "              title=\"Convert this dataframe to an interactive table.\"\n",
              "              style=\"display:none;\">\n",
              "        \n",
              "  <svg xmlns=\"http://www.w3.org/2000/svg\" height=\"24px\"viewBox=\"0 0 24 24\"\n",
              "       width=\"24px\">\n",
              "    <path d=\"M0 0h24v24H0V0z\" fill=\"none\"/>\n",
              "    <path d=\"M18.56 5.44l.94 2.06.94-2.06 2.06-.94-2.06-.94-.94-2.06-.94 2.06-2.06.94zm-11 1L8.5 8.5l.94-2.06 2.06-.94-2.06-.94L8.5 2.5l-.94 2.06-2.06.94zm10 10l.94 2.06.94-2.06 2.06-.94-2.06-.94-.94-2.06-.94 2.06-2.06.94z\"/><path d=\"M17.41 7.96l-1.37-1.37c-.4-.4-.92-.59-1.43-.59-.52 0-1.04.2-1.43.59L10.3 9.45l-7.72 7.72c-.78.78-.78 2.05 0 2.83L4 21.41c.39.39.9.59 1.41.59.51 0 1.02-.2 1.41-.59l7.78-7.78 2.81-2.81c.8-.78.8-2.07 0-2.86zM5.41 20L4 18.59l7.72-7.72 1.47 1.35L5.41 20z\"/>\n",
              "  </svg>\n",
              "      </button>\n",
              "      \n",
              "  <style>\n",
              "    .colab-df-container {\n",
              "      display:flex;\n",
              "      flex-wrap:wrap;\n",
              "      gap: 12px;\n",
              "    }\n",
              "\n",
              "    .colab-df-convert {\n",
              "      background-color: #E8F0FE;\n",
              "      border: none;\n",
              "      border-radius: 50%;\n",
              "      cursor: pointer;\n",
              "      display: none;\n",
              "      fill: #1967D2;\n",
              "      height: 32px;\n",
              "      padding: 0 0 0 0;\n",
              "      width: 32px;\n",
              "    }\n",
              "\n",
              "    .colab-df-convert:hover {\n",
              "      background-color: #E2EBFA;\n",
              "      box-shadow: 0px 1px 2px rgba(60, 64, 67, 0.3), 0px 1px 3px 1px rgba(60, 64, 67, 0.15);\n",
              "      fill: #174EA6;\n",
              "    }\n",
              "\n",
              "    [theme=dark] .colab-df-convert {\n",
              "      background-color: #3B4455;\n",
              "      fill: #D2E3FC;\n",
              "    }\n",
              "\n",
              "    [theme=dark] .colab-df-convert:hover {\n",
              "      background-color: #434B5C;\n",
              "      box-shadow: 0px 1px 3px 1px rgba(0, 0, 0, 0.15);\n",
              "      filter: drop-shadow(0px 1px 2px rgba(0, 0, 0, 0.3));\n",
              "      fill: #FFFFFF;\n",
              "    }\n",
              "  </style>\n",
              "\n",
              "      <script>\n",
              "        const buttonEl =\n",
              "          document.querySelector('#df-5087b75b-dc22-452c-9a5f-bde4d068fa36 button.colab-df-convert');\n",
              "        buttonEl.style.display =\n",
              "          google.colab.kernel.accessAllowed ? 'block' : 'none';\n",
              "\n",
              "        async function convertToInteractive(key) {\n",
              "          const element = document.querySelector('#df-5087b75b-dc22-452c-9a5f-bde4d068fa36');\n",
              "          const dataTable =\n",
              "            await google.colab.kernel.invokeFunction('convertToInteractive',\n",
              "                                                     [key], {});\n",
              "          if (!dataTable) return;\n",
              "\n",
              "          const docLinkHtml = 'Like what you see? Visit the ' +\n",
              "            '<a target=\"_blank\" href=https://colab.research.google.com/notebooks/data_table.ipynb>data table notebook</a>'\n",
              "            + ' to learn more about interactive tables.';\n",
              "          element.innerHTML = '';\n",
              "          dataTable['output_type'] = 'display_data';\n",
              "          await google.colab.output.renderOutput(dataTable, element);\n",
              "          const docLink = document.createElement('div');\n",
              "          docLink.innerHTML = docLinkHtml;\n",
              "          element.appendChild(docLink);\n",
              "        }\n",
              "      </script>\n",
              "    </div>\n",
              "  </div>\n",
              "  "
            ]
          },
          "metadata": {},
          "execution_count": 46
        }
      ]
    },
    {
      "cell_type": "code",
      "source": [
        "df_1[df_enc.columns] = df_enc\n",
        "df_1.head()"
      ],
      "metadata": {
        "id": "xTvICB3gkkLG",
        "outputId": "71339148-fbb2-4c46-a9a1-3888c8967ea6",
        "colab": {
          "base_uri": "https://localhost:8080/",
          "height": 317
        }
      },
      "execution_count": 47,
      "outputs": [
        {
          "output_type": "execute_result",
          "data": {
            "text/plain": [
              "        id  gender   age  hypertension  heart_disease ever_married work_type  \\\n",
              "200  54695    Male  74.0             0              0          Yes   Private   \n",
              "245  49669  Female  14.0             0              0           No  children   \n",
              "140  20439    Male  82.0             0              1          Yes  Govt_job   \n",
              "133  31563  Female  38.0             0              0          Yes   Private   \n",
              "119   5563  Female  77.0             0              0          Yes   Private   \n",
              "\n",
              "    Residence_type  avg_glucose_level   smoking_status  ...  gender_Other  \\\n",
              "200          Urban             167.13          Unknown  ...             0   \n",
              "245          Rural              57.93          Unknown  ...             0   \n",
              "140          Rural             103.68     never smoked  ...             0   \n",
              "133          Rural             101.45  formerly smoked  ...             0   \n",
              "119          Urban             105.22     never smoked  ...             0   \n",
              "\n",
              "     ever_married_Yes  work_type_Never_worked  work_type_Private  \\\n",
              "200                 1                       0                  1   \n",
              "245                 0                       0                  0   \n",
              "140                 1                       0                  0   \n",
              "133                 1                       0                  1   \n",
              "119                 1                       0                  1   \n",
              "\n",
              "     work_type_Self-employed  work_type_children  Residence_type_Urban  \\\n",
              "200                        0                   0                     1   \n",
              "245                        0                   1                     0   \n",
              "140                        0                   0                     0   \n",
              "133                        0                   0                     0   \n",
              "119                        0                   0                     1   \n",
              "\n",
              "     smoking_status_formerly smoked  smoking_status_never smoked  \\\n",
              "200                               0                            0   \n",
              "245                               0                            0   \n",
              "140                               0                            1   \n",
              "133                               1                            0   \n",
              "119                               0                            1   \n",
              "\n",
              "     smoking_status_smokes  \n",
              "200                      0  \n",
              "245                      0  \n",
              "140                      0  \n",
              "133                      0  \n",
              "119                      0  \n",
              "\n",
              "[5 rows x 23 columns]"
            ],
            "text/html": [
              "\n",
              "  <div id=\"df-6891dff2-ed82-4197-a42f-f5dd776523c2\">\n",
              "    <div class=\"colab-df-container\">\n",
              "      <div>\n",
              "<style scoped>\n",
              "    .dataframe tbody tr th:only-of-type {\n",
              "        vertical-align: middle;\n",
              "    }\n",
              "\n",
              "    .dataframe tbody tr th {\n",
              "        vertical-align: top;\n",
              "    }\n",
              "\n",
              "    .dataframe thead th {\n",
              "        text-align: right;\n",
              "    }\n",
              "</style>\n",
              "<table border=\"1\" class=\"dataframe\">\n",
              "  <thead>\n",
              "    <tr style=\"text-align: right;\">\n",
              "      <th></th>\n",
              "      <th>id</th>\n",
              "      <th>gender</th>\n",
              "      <th>age</th>\n",
              "      <th>hypertension</th>\n",
              "      <th>heart_disease</th>\n",
              "      <th>ever_married</th>\n",
              "      <th>work_type</th>\n",
              "      <th>Residence_type</th>\n",
              "      <th>avg_glucose_level</th>\n",
              "      <th>smoking_status</th>\n",
              "      <th>...</th>\n",
              "      <th>gender_Other</th>\n",
              "      <th>ever_married_Yes</th>\n",
              "      <th>work_type_Never_worked</th>\n",
              "      <th>work_type_Private</th>\n",
              "      <th>work_type_Self-employed</th>\n",
              "      <th>work_type_children</th>\n",
              "      <th>Residence_type_Urban</th>\n",
              "      <th>smoking_status_formerly smoked</th>\n",
              "      <th>smoking_status_never smoked</th>\n",
              "      <th>smoking_status_smokes</th>\n",
              "    </tr>\n",
              "  </thead>\n",
              "  <tbody>\n",
              "    <tr>\n",
              "      <th>200</th>\n",
              "      <td>54695</td>\n",
              "      <td>Male</td>\n",
              "      <td>74.0</td>\n",
              "      <td>0</td>\n",
              "      <td>0</td>\n",
              "      <td>Yes</td>\n",
              "      <td>Private</td>\n",
              "      <td>Urban</td>\n",
              "      <td>167.13</td>\n",
              "      <td>Unknown</td>\n",
              "      <td>...</td>\n",
              "      <td>0</td>\n",
              "      <td>1</td>\n",
              "      <td>0</td>\n",
              "      <td>1</td>\n",
              "      <td>0</td>\n",
              "      <td>0</td>\n",
              "      <td>1</td>\n",
              "      <td>0</td>\n",
              "      <td>0</td>\n",
              "      <td>0</td>\n",
              "    </tr>\n",
              "    <tr>\n",
              "      <th>245</th>\n",
              "      <td>49669</td>\n",
              "      <td>Female</td>\n",
              "      <td>14.0</td>\n",
              "      <td>0</td>\n",
              "      <td>0</td>\n",
              "      <td>No</td>\n",
              "      <td>children</td>\n",
              "      <td>Rural</td>\n",
              "      <td>57.93</td>\n",
              "      <td>Unknown</td>\n",
              "      <td>...</td>\n",
              "      <td>0</td>\n",
              "      <td>0</td>\n",
              "      <td>0</td>\n",
              "      <td>0</td>\n",
              "      <td>0</td>\n",
              "      <td>1</td>\n",
              "      <td>0</td>\n",
              "      <td>0</td>\n",
              "      <td>0</td>\n",
              "      <td>0</td>\n",
              "    </tr>\n",
              "    <tr>\n",
              "      <th>140</th>\n",
              "      <td>20439</td>\n",
              "      <td>Male</td>\n",
              "      <td>82.0</td>\n",
              "      <td>0</td>\n",
              "      <td>1</td>\n",
              "      <td>Yes</td>\n",
              "      <td>Govt_job</td>\n",
              "      <td>Rural</td>\n",
              "      <td>103.68</td>\n",
              "      <td>never smoked</td>\n",
              "      <td>...</td>\n",
              "      <td>0</td>\n",
              "      <td>1</td>\n",
              "      <td>0</td>\n",
              "      <td>0</td>\n",
              "      <td>0</td>\n",
              "      <td>0</td>\n",
              "      <td>0</td>\n",
              "      <td>0</td>\n",
              "      <td>1</td>\n",
              "      <td>0</td>\n",
              "    </tr>\n",
              "    <tr>\n",
              "      <th>133</th>\n",
              "      <td>31563</td>\n",
              "      <td>Female</td>\n",
              "      <td>38.0</td>\n",
              "      <td>0</td>\n",
              "      <td>0</td>\n",
              "      <td>Yes</td>\n",
              "      <td>Private</td>\n",
              "      <td>Rural</td>\n",
              "      <td>101.45</td>\n",
              "      <td>formerly smoked</td>\n",
              "      <td>...</td>\n",
              "      <td>0</td>\n",
              "      <td>1</td>\n",
              "      <td>0</td>\n",
              "      <td>1</td>\n",
              "      <td>0</td>\n",
              "      <td>0</td>\n",
              "      <td>0</td>\n",
              "      <td>1</td>\n",
              "      <td>0</td>\n",
              "      <td>0</td>\n",
              "    </tr>\n",
              "    <tr>\n",
              "      <th>119</th>\n",
              "      <td>5563</td>\n",
              "      <td>Female</td>\n",
              "      <td>77.0</td>\n",
              "      <td>0</td>\n",
              "      <td>0</td>\n",
              "      <td>Yes</td>\n",
              "      <td>Private</td>\n",
              "      <td>Urban</td>\n",
              "      <td>105.22</td>\n",
              "      <td>never smoked</td>\n",
              "      <td>...</td>\n",
              "      <td>0</td>\n",
              "      <td>1</td>\n",
              "      <td>0</td>\n",
              "      <td>1</td>\n",
              "      <td>0</td>\n",
              "      <td>0</td>\n",
              "      <td>1</td>\n",
              "      <td>0</td>\n",
              "      <td>1</td>\n",
              "      <td>0</td>\n",
              "    </tr>\n",
              "  </tbody>\n",
              "</table>\n",
              "<p>5 rows × 23 columns</p>\n",
              "</div>\n",
              "      <button class=\"colab-df-convert\" onclick=\"convertToInteractive('df-6891dff2-ed82-4197-a42f-f5dd776523c2')\"\n",
              "              title=\"Convert this dataframe to an interactive table.\"\n",
              "              style=\"display:none;\">\n",
              "        \n",
              "  <svg xmlns=\"http://www.w3.org/2000/svg\" height=\"24px\"viewBox=\"0 0 24 24\"\n",
              "       width=\"24px\">\n",
              "    <path d=\"M0 0h24v24H0V0z\" fill=\"none\"/>\n",
              "    <path d=\"M18.56 5.44l.94 2.06.94-2.06 2.06-.94-2.06-.94-.94-2.06-.94 2.06-2.06.94zm-11 1L8.5 8.5l.94-2.06 2.06-.94-2.06-.94L8.5 2.5l-.94 2.06-2.06.94zm10 10l.94 2.06.94-2.06 2.06-.94-2.06-.94-.94-2.06-.94 2.06-2.06.94z\"/><path d=\"M17.41 7.96l-1.37-1.37c-.4-.4-.92-.59-1.43-.59-.52 0-1.04.2-1.43.59L10.3 9.45l-7.72 7.72c-.78.78-.78 2.05 0 2.83L4 21.41c.39.39.9.59 1.41.59.51 0 1.02-.2 1.41-.59l7.78-7.78 2.81-2.81c.8-.78.8-2.07 0-2.86zM5.41 20L4 18.59l7.72-7.72 1.47 1.35L5.41 20z\"/>\n",
              "  </svg>\n",
              "      </button>\n",
              "      \n",
              "  <style>\n",
              "    .colab-df-container {\n",
              "      display:flex;\n",
              "      flex-wrap:wrap;\n",
              "      gap: 12px;\n",
              "    }\n",
              "\n",
              "    .colab-df-convert {\n",
              "      background-color: #E8F0FE;\n",
              "      border: none;\n",
              "      border-radius: 50%;\n",
              "      cursor: pointer;\n",
              "      display: none;\n",
              "      fill: #1967D2;\n",
              "      height: 32px;\n",
              "      padding: 0 0 0 0;\n",
              "      width: 32px;\n",
              "    }\n",
              "\n",
              "    .colab-df-convert:hover {\n",
              "      background-color: #E2EBFA;\n",
              "      box-shadow: 0px 1px 2px rgba(60, 64, 67, 0.3), 0px 1px 3px 1px rgba(60, 64, 67, 0.15);\n",
              "      fill: #174EA6;\n",
              "    }\n",
              "\n",
              "    [theme=dark] .colab-df-convert {\n",
              "      background-color: #3B4455;\n",
              "      fill: #D2E3FC;\n",
              "    }\n",
              "\n",
              "    [theme=dark] .colab-df-convert:hover {\n",
              "      background-color: #434B5C;\n",
              "      box-shadow: 0px 1px 3px 1px rgba(0, 0, 0, 0.15);\n",
              "      filter: drop-shadow(0px 1px 2px rgba(0, 0, 0, 0.3));\n",
              "      fill: #FFFFFF;\n",
              "    }\n",
              "  </style>\n",
              "\n",
              "      <script>\n",
              "        const buttonEl =\n",
              "          document.querySelector('#df-6891dff2-ed82-4197-a42f-f5dd776523c2 button.colab-df-convert');\n",
              "        buttonEl.style.display =\n",
              "          google.colab.kernel.accessAllowed ? 'block' : 'none';\n",
              "\n",
              "        async function convertToInteractive(key) {\n",
              "          const element = document.querySelector('#df-6891dff2-ed82-4197-a42f-f5dd776523c2');\n",
              "          const dataTable =\n",
              "            await google.colab.kernel.invokeFunction('convertToInteractive',\n",
              "                                                     [key], {});\n",
              "          if (!dataTable) return;\n",
              "\n",
              "          const docLinkHtml = 'Like what you see? Visit the ' +\n",
              "            '<a target=\"_blank\" href=https://colab.research.google.com/notebooks/data_table.ipynb>data table notebook</a>'\n",
              "            + ' to learn more about interactive tables.';\n",
              "          element.innerHTML = '';\n",
              "          dataTable['output_type'] = 'display_data';\n",
              "          await google.colab.output.renderOutput(dataTable, element);\n",
              "          const docLink = document.createElement('div');\n",
              "          docLink.innerHTML = docLinkHtml;\n",
              "          element.appendChild(docLink);\n",
              "        }\n",
              "      </script>\n",
              "    </div>\n",
              "  </div>\n",
              "  "
            ]
          },
          "metadata": {},
          "execution_count": 47
        }
      ]
    },
    {
      "cell_type": "code",
      "source": [
        "df_1.drop(['gender','ever_married','work_type','Residence_type','smoking_status'], axis =1, inplace = True)"
      ],
      "metadata": {
        "id": "sVSOeM81uSeX"
      },
      "execution_count": 48,
      "outputs": []
    },
    {
      "cell_type": "code",
      "source": [
        "df_final = df_1"
      ],
      "metadata": {
        "id": "WOgYdFjTuvo_"
      },
      "execution_count": 49,
      "outputs": []
    },
    {
      "cell_type": "code",
      "source": [
        "df_final"
      ],
      "metadata": {
        "id": "Y2QhQHhZuzmV",
        "outputId": "59ecf174-c2d1-4153-f397-c4d28ee16a0e",
        "colab": {
          "base_uri": "https://localhost:8080/",
          "height": 505
        }
      },
      "execution_count": 50,
      "outputs": [
        {
          "output_type": "execute_result",
          "data": {
            "text/plain": [
              "         id   age  hypertension  heart_disease  avg_glucose_level  stroke  \\\n",
              "200   54695  74.0             0              0             167.13       1   \n",
              "245   49669  14.0             0              0              57.93       1   \n",
              "140   20439  82.0             0              1             103.68       1   \n",
              "133   31563  38.0             0              0             101.45       1   \n",
              "119    5563  77.0             0              0             105.22       1   \n",
              "...     ...   ...           ...            ...                ...     ...   \n",
              "5105  18234  80.0             1              0              83.75       0   \n",
              "5106  44873  81.0             0              0             125.20       0   \n",
              "5107  19723  35.0             0              0              82.99       0   \n",
              "5108  37544  51.0             0              0             166.29       0   \n",
              "5109  44679  44.0             0              0              85.28       0   \n",
              "\n",
              "      bmi_1  gender_Male  gender_Other  ever_married_Yes  \\\n",
              "200    28.1            1             0                 1   \n",
              "245    30.9            0             0                 0   \n",
              "140    25.0            1             0                 1   \n",
              "133    28.1            0             0                 1   \n",
              "119    31.0            0             0                 1   \n",
              "...     ...          ...           ...               ...   \n",
              "5105   28.1            0             0                 1   \n",
              "5106   40.0            0             0                 1   \n",
              "5107   30.6            0             0                 1   \n",
              "5108   25.6            1             0                 1   \n",
              "5109   26.2            0             0                 1   \n",
              "\n",
              "      work_type_Never_worked  work_type_Private  work_type_Self-employed  \\\n",
              "200                        0                  1                        0   \n",
              "245                        0                  0                        0   \n",
              "140                        0                  0                        0   \n",
              "133                        0                  1                        0   \n",
              "119                        0                  1                        0   \n",
              "...                      ...                ...                      ...   \n",
              "5105                       0                  1                        0   \n",
              "5106                       0                  0                        1   \n",
              "5107                       0                  0                        1   \n",
              "5108                       0                  1                        0   \n",
              "5109                       0                  0                        0   \n",
              "\n",
              "      work_type_children  Residence_type_Urban  \\\n",
              "200                    0                     1   \n",
              "245                    1                     0   \n",
              "140                    0                     0   \n",
              "133                    0                     0   \n",
              "119                    0                     1   \n",
              "...                  ...                   ...   \n",
              "5105                   0                     1   \n",
              "5106                   0                     1   \n",
              "5107                   0                     0   \n",
              "5108                   0                     0   \n",
              "5109                   0                     1   \n",
              "\n",
              "      smoking_status_formerly smoked  smoking_status_never smoked  \\\n",
              "200                                0                            0   \n",
              "245                                0                            0   \n",
              "140                                0                            1   \n",
              "133                                1                            0   \n",
              "119                                0                            1   \n",
              "...                              ...                          ...   \n",
              "5105                               0                            1   \n",
              "5106                               0                            1   \n",
              "5107                               0                            1   \n",
              "5108                               1                            0   \n",
              "5109                               0                            0   \n",
              "\n",
              "      smoking_status_smokes  \n",
              "200                       0  \n",
              "245                       0  \n",
              "140                       0  \n",
              "133                       0  \n",
              "119                       0  \n",
              "...                     ...  \n",
              "5105                      0  \n",
              "5106                      0  \n",
              "5107                      0  \n",
              "5108                      0  \n",
              "5109                      0  \n",
              "\n",
              "[9721 rows x 18 columns]"
            ],
            "text/html": [
              "\n",
              "  <div id=\"df-e1590e51-9067-4bba-91dd-583161ce10df\">\n",
              "    <div class=\"colab-df-container\">\n",
              "      <div>\n",
              "<style scoped>\n",
              "    .dataframe tbody tr th:only-of-type {\n",
              "        vertical-align: middle;\n",
              "    }\n",
              "\n",
              "    .dataframe tbody tr th {\n",
              "        vertical-align: top;\n",
              "    }\n",
              "\n",
              "    .dataframe thead th {\n",
              "        text-align: right;\n",
              "    }\n",
              "</style>\n",
              "<table border=\"1\" class=\"dataframe\">\n",
              "  <thead>\n",
              "    <tr style=\"text-align: right;\">\n",
              "      <th></th>\n",
              "      <th>id</th>\n",
              "      <th>age</th>\n",
              "      <th>hypertension</th>\n",
              "      <th>heart_disease</th>\n",
              "      <th>avg_glucose_level</th>\n",
              "      <th>stroke</th>\n",
              "      <th>bmi_1</th>\n",
              "      <th>gender_Male</th>\n",
              "      <th>gender_Other</th>\n",
              "      <th>ever_married_Yes</th>\n",
              "      <th>work_type_Never_worked</th>\n",
              "      <th>work_type_Private</th>\n",
              "      <th>work_type_Self-employed</th>\n",
              "      <th>work_type_children</th>\n",
              "      <th>Residence_type_Urban</th>\n",
              "      <th>smoking_status_formerly smoked</th>\n",
              "      <th>smoking_status_never smoked</th>\n",
              "      <th>smoking_status_smokes</th>\n",
              "    </tr>\n",
              "  </thead>\n",
              "  <tbody>\n",
              "    <tr>\n",
              "      <th>200</th>\n",
              "      <td>54695</td>\n",
              "      <td>74.0</td>\n",
              "      <td>0</td>\n",
              "      <td>0</td>\n",
              "      <td>167.13</td>\n",
              "      <td>1</td>\n",
              "      <td>28.1</td>\n",
              "      <td>1</td>\n",
              "      <td>0</td>\n",
              "      <td>1</td>\n",
              "      <td>0</td>\n",
              "      <td>1</td>\n",
              "      <td>0</td>\n",
              "      <td>0</td>\n",
              "      <td>1</td>\n",
              "      <td>0</td>\n",
              "      <td>0</td>\n",
              "      <td>0</td>\n",
              "    </tr>\n",
              "    <tr>\n",
              "      <th>245</th>\n",
              "      <td>49669</td>\n",
              "      <td>14.0</td>\n",
              "      <td>0</td>\n",
              "      <td>0</td>\n",
              "      <td>57.93</td>\n",
              "      <td>1</td>\n",
              "      <td>30.9</td>\n",
              "      <td>0</td>\n",
              "      <td>0</td>\n",
              "      <td>0</td>\n",
              "      <td>0</td>\n",
              "      <td>0</td>\n",
              "      <td>0</td>\n",
              "      <td>1</td>\n",
              "      <td>0</td>\n",
              "      <td>0</td>\n",
              "      <td>0</td>\n",
              "      <td>0</td>\n",
              "    </tr>\n",
              "    <tr>\n",
              "      <th>140</th>\n",
              "      <td>20439</td>\n",
              "      <td>82.0</td>\n",
              "      <td>0</td>\n",
              "      <td>1</td>\n",
              "      <td>103.68</td>\n",
              "      <td>1</td>\n",
              "      <td>25.0</td>\n",
              "      <td>1</td>\n",
              "      <td>0</td>\n",
              "      <td>1</td>\n",
              "      <td>0</td>\n",
              "      <td>0</td>\n",
              "      <td>0</td>\n",
              "      <td>0</td>\n",
              "      <td>0</td>\n",
              "      <td>0</td>\n",
              "      <td>1</td>\n",
              "      <td>0</td>\n",
              "    </tr>\n",
              "    <tr>\n",
              "      <th>133</th>\n",
              "      <td>31563</td>\n",
              "      <td>38.0</td>\n",
              "      <td>0</td>\n",
              "      <td>0</td>\n",
              "      <td>101.45</td>\n",
              "      <td>1</td>\n",
              "      <td>28.1</td>\n",
              "      <td>0</td>\n",
              "      <td>0</td>\n",
              "      <td>1</td>\n",
              "      <td>0</td>\n",
              "      <td>1</td>\n",
              "      <td>0</td>\n",
              "      <td>0</td>\n",
              "      <td>0</td>\n",
              "      <td>1</td>\n",
              "      <td>0</td>\n",
              "      <td>0</td>\n",
              "    </tr>\n",
              "    <tr>\n",
              "      <th>119</th>\n",
              "      <td>5563</td>\n",
              "      <td>77.0</td>\n",
              "      <td>0</td>\n",
              "      <td>0</td>\n",
              "      <td>105.22</td>\n",
              "      <td>1</td>\n",
              "      <td>31.0</td>\n",
              "      <td>0</td>\n",
              "      <td>0</td>\n",
              "      <td>1</td>\n",
              "      <td>0</td>\n",
              "      <td>1</td>\n",
              "      <td>0</td>\n",
              "      <td>0</td>\n",
              "      <td>1</td>\n",
              "      <td>0</td>\n",
              "      <td>1</td>\n",
              "      <td>0</td>\n",
              "    </tr>\n",
              "    <tr>\n",
              "      <th>...</th>\n",
              "      <td>...</td>\n",
              "      <td>...</td>\n",
              "      <td>...</td>\n",
              "      <td>...</td>\n",
              "      <td>...</td>\n",
              "      <td>...</td>\n",
              "      <td>...</td>\n",
              "      <td>...</td>\n",
              "      <td>...</td>\n",
              "      <td>...</td>\n",
              "      <td>...</td>\n",
              "      <td>...</td>\n",
              "      <td>...</td>\n",
              "      <td>...</td>\n",
              "      <td>...</td>\n",
              "      <td>...</td>\n",
              "      <td>...</td>\n",
              "      <td>...</td>\n",
              "    </tr>\n",
              "    <tr>\n",
              "      <th>5105</th>\n",
              "      <td>18234</td>\n",
              "      <td>80.0</td>\n",
              "      <td>1</td>\n",
              "      <td>0</td>\n",
              "      <td>83.75</td>\n",
              "      <td>0</td>\n",
              "      <td>28.1</td>\n",
              "      <td>0</td>\n",
              "      <td>0</td>\n",
              "      <td>1</td>\n",
              "      <td>0</td>\n",
              "      <td>1</td>\n",
              "      <td>0</td>\n",
              "      <td>0</td>\n",
              "      <td>1</td>\n",
              "      <td>0</td>\n",
              "      <td>1</td>\n",
              "      <td>0</td>\n",
              "    </tr>\n",
              "    <tr>\n",
              "      <th>5106</th>\n",
              "      <td>44873</td>\n",
              "      <td>81.0</td>\n",
              "      <td>0</td>\n",
              "      <td>0</td>\n",
              "      <td>125.20</td>\n",
              "      <td>0</td>\n",
              "      <td>40.0</td>\n",
              "      <td>0</td>\n",
              "      <td>0</td>\n",
              "      <td>1</td>\n",
              "      <td>0</td>\n",
              "      <td>0</td>\n",
              "      <td>1</td>\n",
              "      <td>0</td>\n",
              "      <td>1</td>\n",
              "      <td>0</td>\n",
              "      <td>1</td>\n",
              "      <td>0</td>\n",
              "    </tr>\n",
              "    <tr>\n",
              "      <th>5107</th>\n",
              "      <td>19723</td>\n",
              "      <td>35.0</td>\n",
              "      <td>0</td>\n",
              "      <td>0</td>\n",
              "      <td>82.99</td>\n",
              "      <td>0</td>\n",
              "      <td>30.6</td>\n",
              "      <td>0</td>\n",
              "      <td>0</td>\n",
              "      <td>1</td>\n",
              "      <td>0</td>\n",
              "      <td>0</td>\n",
              "      <td>1</td>\n",
              "      <td>0</td>\n",
              "      <td>0</td>\n",
              "      <td>0</td>\n",
              "      <td>1</td>\n",
              "      <td>0</td>\n",
              "    </tr>\n",
              "    <tr>\n",
              "      <th>5108</th>\n",
              "      <td>37544</td>\n",
              "      <td>51.0</td>\n",
              "      <td>0</td>\n",
              "      <td>0</td>\n",
              "      <td>166.29</td>\n",
              "      <td>0</td>\n",
              "      <td>25.6</td>\n",
              "      <td>1</td>\n",
              "      <td>0</td>\n",
              "      <td>1</td>\n",
              "      <td>0</td>\n",
              "      <td>1</td>\n",
              "      <td>0</td>\n",
              "      <td>0</td>\n",
              "      <td>0</td>\n",
              "      <td>1</td>\n",
              "      <td>0</td>\n",
              "      <td>0</td>\n",
              "    </tr>\n",
              "    <tr>\n",
              "      <th>5109</th>\n",
              "      <td>44679</td>\n",
              "      <td>44.0</td>\n",
              "      <td>0</td>\n",
              "      <td>0</td>\n",
              "      <td>85.28</td>\n",
              "      <td>0</td>\n",
              "      <td>26.2</td>\n",
              "      <td>0</td>\n",
              "      <td>0</td>\n",
              "      <td>1</td>\n",
              "      <td>0</td>\n",
              "      <td>0</td>\n",
              "      <td>0</td>\n",
              "      <td>0</td>\n",
              "      <td>1</td>\n",
              "      <td>0</td>\n",
              "      <td>0</td>\n",
              "      <td>0</td>\n",
              "    </tr>\n",
              "  </tbody>\n",
              "</table>\n",
              "<p>9721 rows × 18 columns</p>\n",
              "</div>\n",
              "      <button class=\"colab-df-convert\" onclick=\"convertToInteractive('df-e1590e51-9067-4bba-91dd-583161ce10df')\"\n",
              "              title=\"Convert this dataframe to an interactive table.\"\n",
              "              style=\"display:none;\">\n",
              "        \n",
              "  <svg xmlns=\"http://www.w3.org/2000/svg\" height=\"24px\"viewBox=\"0 0 24 24\"\n",
              "       width=\"24px\">\n",
              "    <path d=\"M0 0h24v24H0V0z\" fill=\"none\"/>\n",
              "    <path d=\"M18.56 5.44l.94 2.06.94-2.06 2.06-.94-2.06-.94-.94-2.06-.94 2.06-2.06.94zm-11 1L8.5 8.5l.94-2.06 2.06-.94-2.06-.94L8.5 2.5l-.94 2.06-2.06.94zm10 10l.94 2.06.94-2.06 2.06-.94-2.06-.94-.94-2.06-.94 2.06-2.06.94z\"/><path d=\"M17.41 7.96l-1.37-1.37c-.4-.4-.92-.59-1.43-.59-.52 0-1.04.2-1.43.59L10.3 9.45l-7.72 7.72c-.78.78-.78 2.05 0 2.83L4 21.41c.39.39.9.59 1.41.59.51 0 1.02-.2 1.41-.59l7.78-7.78 2.81-2.81c.8-.78.8-2.07 0-2.86zM5.41 20L4 18.59l7.72-7.72 1.47 1.35L5.41 20z\"/>\n",
              "  </svg>\n",
              "      </button>\n",
              "      \n",
              "  <style>\n",
              "    .colab-df-container {\n",
              "      display:flex;\n",
              "      flex-wrap:wrap;\n",
              "      gap: 12px;\n",
              "    }\n",
              "\n",
              "    .colab-df-convert {\n",
              "      background-color: #E8F0FE;\n",
              "      border: none;\n",
              "      border-radius: 50%;\n",
              "      cursor: pointer;\n",
              "      display: none;\n",
              "      fill: #1967D2;\n",
              "      height: 32px;\n",
              "      padding: 0 0 0 0;\n",
              "      width: 32px;\n",
              "    }\n",
              "\n",
              "    .colab-df-convert:hover {\n",
              "      background-color: #E2EBFA;\n",
              "      box-shadow: 0px 1px 2px rgba(60, 64, 67, 0.3), 0px 1px 3px 1px rgba(60, 64, 67, 0.15);\n",
              "      fill: #174EA6;\n",
              "    }\n",
              "\n",
              "    [theme=dark] .colab-df-convert {\n",
              "      background-color: #3B4455;\n",
              "      fill: #D2E3FC;\n",
              "    }\n",
              "\n",
              "    [theme=dark] .colab-df-convert:hover {\n",
              "      background-color: #434B5C;\n",
              "      box-shadow: 0px 1px 3px 1px rgba(0, 0, 0, 0.15);\n",
              "      filter: drop-shadow(0px 1px 2px rgba(0, 0, 0, 0.3));\n",
              "      fill: #FFFFFF;\n",
              "    }\n",
              "  </style>\n",
              "\n",
              "      <script>\n",
              "        const buttonEl =\n",
              "          document.querySelector('#df-e1590e51-9067-4bba-91dd-583161ce10df button.colab-df-convert');\n",
              "        buttonEl.style.display =\n",
              "          google.colab.kernel.accessAllowed ? 'block' : 'none';\n",
              "\n",
              "        async function convertToInteractive(key) {\n",
              "          const element = document.querySelector('#df-e1590e51-9067-4bba-91dd-583161ce10df');\n",
              "          const dataTable =\n",
              "            await google.colab.kernel.invokeFunction('convertToInteractive',\n",
              "                                                     [key], {});\n",
              "          if (!dataTable) return;\n",
              "\n",
              "          const docLinkHtml = 'Like what you see? Visit the ' +\n",
              "            '<a target=\"_blank\" href=https://colab.research.google.com/notebooks/data_table.ipynb>data table notebook</a>'\n",
              "            + ' to learn more about interactive tables.';\n",
              "          element.innerHTML = '';\n",
              "          dataTable['output_type'] = 'display_data';\n",
              "          await google.colab.output.renderOutput(dataTable, element);\n",
              "          const docLink = document.createElement('div');\n",
              "          docLink.innerHTML = docLinkHtml;\n",
              "          element.appendChild(docLink);\n",
              "        }\n",
              "      </script>\n",
              "    </div>\n",
              "  </div>\n",
              "  "
            ]
          },
          "metadata": {},
          "execution_count": 50
        }
      ]
    },
    {
      "cell_type": "code",
      "source": [
        "df_final.info()"
      ],
      "metadata": {
        "id": "HscsG0oOCqk4",
        "outputId": "e8cb2407-6e47-4291-f131-87b91b515e54",
        "colab": {
          "base_uri": "https://localhost:8080/"
        }
      },
      "execution_count": 51,
      "outputs": [
        {
          "output_type": "stream",
          "name": "stdout",
          "text": [
            "<class 'pandas.core.frame.DataFrame'>\n",
            "Int64Index: 9721 entries, 200 to 5109\n",
            "Data columns (total 18 columns):\n",
            " #   Column                          Non-Null Count  Dtype  \n",
            "---  ------                          --------------  -----  \n",
            " 0   id                              9721 non-null   int64  \n",
            " 1   age                             9721 non-null   float64\n",
            " 2   hypertension                    9721 non-null   int64  \n",
            " 3   heart_disease                   9721 non-null   int64  \n",
            " 4   avg_glucose_level               9721 non-null   float64\n",
            " 5   stroke                          9721 non-null   int64  \n",
            " 6   bmi_1                           9721 non-null   float64\n",
            " 7   gender_Male                     9721 non-null   uint8  \n",
            " 8   gender_Other                    9721 non-null   uint8  \n",
            " 9   ever_married_Yes                9721 non-null   uint8  \n",
            " 10  work_type_Never_worked          9721 non-null   uint8  \n",
            " 11  work_type_Private               9721 non-null   uint8  \n",
            " 12  work_type_Self-employed         9721 non-null   uint8  \n",
            " 13  work_type_children              9721 non-null   uint8  \n",
            " 14  Residence_type_Urban            9721 non-null   uint8  \n",
            " 15  smoking_status_formerly smoked  9721 non-null   uint8  \n",
            " 16  smoking_status_never smoked     9721 non-null   uint8  \n",
            " 17  smoking_status_smokes           9721 non-null   uint8  \n",
            "dtypes: float64(3), int64(4), uint8(11)\n",
            "memory usage: 712.0 KB\n"
          ]
        }
      ]
    },
    {
      "cell_type": "code",
      "source": [
        "X = df_final.drop(columns = 'stroke')  \n",
        "y = df_final[['stroke']]"
      ],
      "metadata": {
        "id": "4_x2Unppu9b2"
      },
      "execution_count": 52,
      "outputs": []
    },
    {
      "cell_type": "markdown",
      "source": [
        "###  <font color = 'green'>4.2 <span style='color:#0386f7de'>|</span> Scaling All the Features <a id=\"prep\"></a></font>"
      ],
      "metadata": {
        "id": "IsOhpODO0f-1"
      }
    },
    {
      "cell_type": "code",
      "source": [
        "X_scaled = StandardScaler()\n",
        "X_scaled = X_scaled.fit_transform(X)\n",
        "X_scaled = pd.DataFrame(data=X_scaled, columns = X.columns)\n",
        "X_scaled"
      ],
      "metadata": {
        "id": "mC9v1DRDxJI4",
        "outputId": "c31c2263-5fd2-48b9-c47b-c942a204695b",
        "colab": {
          "base_uri": "https://localhost:8080/",
          "height": 505
        }
      },
      "execution_count": 53,
      "outputs": [
        {
          "output_type": "execute_result",
          "data": {
            "text/plain": [
              "            id       age  hypertension  heart_disease  avg_glucose_level  \\\n",
              "0     0.833253  0.851497     -0.467904      -0.366297           0.874466   \n",
              "1     0.600125 -1.827732     -0.467904      -0.366297          -1.094777   \n",
              "2    -0.755690  1.208728     -0.467904       2.730026          -0.269751   \n",
              "3    -0.239710 -0.756040     -0.467904      -0.366297          -0.309965   \n",
              "4    -1.445704  0.985459     -0.467904      -0.366297          -0.241980   \n",
              "...        ...       ...           ...            ...                ...   \n",
              "9716 -0.857967  1.119420      2.137190      -0.366297          -0.629156   \n",
              "9717  0.377666  1.164074     -0.467904      -0.366297           0.118327   \n",
              "9718 -0.788901 -0.890002     -0.467904      -0.366297          -0.642861   \n",
              "9719  0.037715 -0.175541     -0.467904      -0.366297           0.859318   \n",
              "9720  0.368667 -0.488117     -0.467904      -0.366297          -0.601565   \n",
              "\n",
              "         bmi_1  gender_Male  gender_Other  ever_married_Yes  \\\n",
              "0    -0.074230     1.161307     -0.010143          0.560677   \n",
              "1     0.461517    -0.861098     -0.010143         -1.783557   \n",
              "2    -0.667379     1.161307     -0.010143          0.560677   \n",
              "3    -0.074230    -0.861098     -0.010143          0.560677   \n",
              "4     0.480650    -0.861098     -0.010143          0.560677   \n",
              "...        ...          ...           ...               ...   \n",
              "9716 -0.074230    -0.861098     -0.010143          0.560677   \n",
              "9717  2.202694    -0.861098     -0.010143          0.560677   \n",
              "9718  0.404115    -0.861098     -0.010143          0.560677   \n",
              "9719 -0.552576     1.161307     -0.010143          0.560677   \n",
              "9720 -0.437773    -0.861098     -0.010143          0.560677   \n",
              "\n",
              "      work_type_Never_worked  work_type_Private  work_type_Self-employed  \\\n",
              "0                  -0.047626           0.850456                -0.518391   \n",
              "1                  -0.047626          -1.175839                -0.518391   \n",
              "2                  -0.047626          -1.175839                -0.518391   \n",
              "3                  -0.047626           0.850456                -0.518391   \n",
              "4                  -0.047626           0.850456                -0.518391   \n",
              "...                      ...                ...                      ...   \n",
              "9716               -0.047626           0.850456                -0.518391   \n",
              "9717               -0.047626          -1.175839                 1.929047   \n",
              "9718               -0.047626          -1.175839                 1.929047   \n",
              "9719               -0.047626           0.850456                -0.518391   \n",
              "9720               -0.047626          -1.175839                -0.518391   \n",
              "\n",
              "      work_type_children  Residence_type_Urban  \\\n",
              "0              -0.285364              0.951882   \n",
              "1               3.504291             -1.050551   \n",
              "2              -0.285364             -1.050551   \n",
              "3              -0.285364             -1.050551   \n",
              "4              -0.285364              0.951882   \n",
              "...                  ...                   ...   \n",
              "9716           -0.285364              0.951882   \n",
              "9717           -0.285364              0.951882   \n",
              "9718           -0.285364             -1.050551   \n",
              "9719           -0.285364             -1.050551   \n",
              "9720           -0.285364              0.951882   \n",
              "\n",
              "      smoking_status_formerly smoked  smoking_status_never smoked  \\\n",
              "0                          -0.535441                    -0.768425   \n",
              "1                          -0.535441                    -0.768425   \n",
              "2                          -0.535441                     1.301362   \n",
              "3                           1.867618                    -0.768425   \n",
              "4                          -0.535441                     1.301362   \n",
              "...                              ...                          ...   \n",
              "9716                       -0.535441                     1.301362   \n",
              "9717                       -0.535441                     1.301362   \n",
              "9718                       -0.535441                     1.301362   \n",
              "9719                        1.867618                    -0.768425   \n",
              "9720                       -0.535441                    -0.768425   \n",
              "\n",
              "      smoking_status_smokes  \n",
              "0                 -0.435039  \n",
              "1                 -0.435039  \n",
              "2                 -0.435039  \n",
              "3                 -0.435039  \n",
              "4                 -0.435039  \n",
              "...                     ...  \n",
              "9716              -0.435039  \n",
              "9717              -0.435039  \n",
              "9718              -0.435039  \n",
              "9719              -0.435039  \n",
              "9720              -0.435039  \n",
              "\n",
              "[9721 rows x 17 columns]"
            ],
            "text/html": [
              "\n",
              "  <div id=\"df-c15c1964-ebbf-423e-8be6-397270ad4912\">\n",
              "    <div class=\"colab-df-container\">\n",
              "      <div>\n",
              "<style scoped>\n",
              "    .dataframe tbody tr th:only-of-type {\n",
              "        vertical-align: middle;\n",
              "    }\n",
              "\n",
              "    .dataframe tbody tr th {\n",
              "        vertical-align: top;\n",
              "    }\n",
              "\n",
              "    .dataframe thead th {\n",
              "        text-align: right;\n",
              "    }\n",
              "</style>\n",
              "<table border=\"1\" class=\"dataframe\">\n",
              "  <thead>\n",
              "    <tr style=\"text-align: right;\">\n",
              "      <th></th>\n",
              "      <th>id</th>\n",
              "      <th>age</th>\n",
              "      <th>hypertension</th>\n",
              "      <th>heart_disease</th>\n",
              "      <th>avg_glucose_level</th>\n",
              "      <th>bmi_1</th>\n",
              "      <th>gender_Male</th>\n",
              "      <th>gender_Other</th>\n",
              "      <th>ever_married_Yes</th>\n",
              "      <th>work_type_Never_worked</th>\n",
              "      <th>work_type_Private</th>\n",
              "      <th>work_type_Self-employed</th>\n",
              "      <th>work_type_children</th>\n",
              "      <th>Residence_type_Urban</th>\n",
              "      <th>smoking_status_formerly smoked</th>\n",
              "      <th>smoking_status_never smoked</th>\n",
              "      <th>smoking_status_smokes</th>\n",
              "    </tr>\n",
              "  </thead>\n",
              "  <tbody>\n",
              "    <tr>\n",
              "      <th>0</th>\n",
              "      <td>0.833253</td>\n",
              "      <td>0.851497</td>\n",
              "      <td>-0.467904</td>\n",
              "      <td>-0.366297</td>\n",
              "      <td>0.874466</td>\n",
              "      <td>-0.074230</td>\n",
              "      <td>1.161307</td>\n",
              "      <td>-0.010143</td>\n",
              "      <td>0.560677</td>\n",
              "      <td>-0.047626</td>\n",
              "      <td>0.850456</td>\n",
              "      <td>-0.518391</td>\n",
              "      <td>-0.285364</td>\n",
              "      <td>0.951882</td>\n",
              "      <td>-0.535441</td>\n",
              "      <td>-0.768425</td>\n",
              "      <td>-0.435039</td>\n",
              "    </tr>\n",
              "    <tr>\n",
              "      <th>1</th>\n",
              "      <td>0.600125</td>\n",
              "      <td>-1.827732</td>\n",
              "      <td>-0.467904</td>\n",
              "      <td>-0.366297</td>\n",
              "      <td>-1.094777</td>\n",
              "      <td>0.461517</td>\n",
              "      <td>-0.861098</td>\n",
              "      <td>-0.010143</td>\n",
              "      <td>-1.783557</td>\n",
              "      <td>-0.047626</td>\n",
              "      <td>-1.175839</td>\n",
              "      <td>-0.518391</td>\n",
              "      <td>3.504291</td>\n",
              "      <td>-1.050551</td>\n",
              "      <td>-0.535441</td>\n",
              "      <td>-0.768425</td>\n",
              "      <td>-0.435039</td>\n",
              "    </tr>\n",
              "    <tr>\n",
              "      <th>2</th>\n",
              "      <td>-0.755690</td>\n",
              "      <td>1.208728</td>\n",
              "      <td>-0.467904</td>\n",
              "      <td>2.730026</td>\n",
              "      <td>-0.269751</td>\n",
              "      <td>-0.667379</td>\n",
              "      <td>1.161307</td>\n",
              "      <td>-0.010143</td>\n",
              "      <td>0.560677</td>\n",
              "      <td>-0.047626</td>\n",
              "      <td>-1.175839</td>\n",
              "      <td>-0.518391</td>\n",
              "      <td>-0.285364</td>\n",
              "      <td>-1.050551</td>\n",
              "      <td>-0.535441</td>\n",
              "      <td>1.301362</td>\n",
              "      <td>-0.435039</td>\n",
              "    </tr>\n",
              "    <tr>\n",
              "      <th>3</th>\n",
              "      <td>-0.239710</td>\n",
              "      <td>-0.756040</td>\n",
              "      <td>-0.467904</td>\n",
              "      <td>-0.366297</td>\n",
              "      <td>-0.309965</td>\n",
              "      <td>-0.074230</td>\n",
              "      <td>-0.861098</td>\n",
              "      <td>-0.010143</td>\n",
              "      <td>0.560677</td>\n",
              "      <td>-0.047626</td>\n",
              "      <td>0.850456</td>\n",
              "      <td>-0.518391</td>\n",
              "      <td>-0.285364</td>\n",
              "      <td>-1.050551</td>\n",
              "      <td>1.867618</td>\n",
              "      <td>-0.768425</td>\n",
              "      <td>-0.435039</td>\n",
              "    </tr>\n",
              "    <tr>\n",
              "      <th>4</th>\n",
              "      <td>-1.445704</td>\n",
              "      <td>0.985459</td>\n",
              "      <td>-0.467904</td>\n",
              "      <td>-0.366297</td>\n",
              "      <td>-0.241980</td>\n",
              "      <td>0.480650</td>\n",
              "      <td>-0.861098</td>\n",
              "      <td>-0.010143</td>\n",
              "      <td>0.560677</td>\n",
              "      <td>-0.047626</td>\n",
              "      <td>0.850456</td>\n",
              "      <td>-0.518391</td>\n",
              "      <td>-0.285364</td>\n",
              "      <td>0.951882</td>\n",
              "      <td>-0.535441</td>\n",
              "      <td>1.301362</td>\n",
              "      <td>-0.435039</td>\n",
              "    </tr>\n",
              "    <tr>\n",
              "      <th>...</th>\n",
              "      <td>...</td>\n",
              "      <td>...</td>\n",
              "      <td>...</td>\n",
              "      <td>...</td>\n",
              "      <td>...</td>\n",
              "      <td>...</td>\n",
              "      <td>...</td>\n",
              "      <td>...</td>\n",
              "      <td>...</td>\n",
              "      <td>...</td>\n",
              "      <td>...</td>\n",
              "      <td>...</td>\n",
              "      <td>...</td>\n",
              "      <td>...</td>\n",
              "      <td>...</td>\n",
              "      <td>...</td>\n",
              "      <td>...</td>\n",
              "    </tr>\n",
              "    <tr>\n",
              "      <th>9716</th>\n",
              "      <td>-0.857967</td>\n",
              "      <td>1.119420</td>\n",
              "      <td>2.137190</td>\n",
              "      <td>-0.366297</td>\n",
              "      <td>-0.629156</td>\n",
              "      <td>-0.074230</td>\n",
              "      <td>-0.861098</td>\n",
              "      <td>-0.010143</td>\n",
              "      <td>0.560677</td>\n",
              "      <td>-0.047626</td>\n",
              "      <td>0.850456</td>\n",
              "      <td>-0.518391</td>\n",
              "      <td>-0.285364</td>\n",
              "      <td>0.951882</td>\n",
              "      <td>-0.535441</td>\n",
              "      <td>1.301362</td>\n",
              "      <td>-0.435039</td>\n",
              "    </tr>\n",
              "    <tr>\n",
              "      <th>9717</th>\n",
              "      <td>0.377666</td>\n",
              "      <td>1.164074</td>\n",
              "      <td>-0.467904</td>\n",
              "      <td>-0.366297</td>\n",
              "      <td>0.118327</td>\n",
              "      <td>2.202694</td>\n",
              "      <td>-0.861098</td>\n",
              "      <td>-0.010143</td>\n",
              "      <td>0.560677</td>\n",
              "      <td>-0.047626</td>\n",
              "      <td>-1.175839</td>\n",
              "      <td>1.929047</td>\n",
              "      <td>-0.285364</td>\n",
              "      <td>0.951882</td>\n",
              "      <td>-0.535441</td>\n",
              "      <td>1.301362</td>\n",
              "      <td>-0.435039</td>\n",
              "    </tr>\n",
              "    <tr>\n",
              "      <th>9718</th>\n",
              "      <td>-0.788901</td>\n",
              "      <td>-0.890002</td>\n",
              "      <td>-0.467904</td>\n",
              "      <td>-0.366297</td>\n",
              "      <td>-0.642861</td>\n",
              "      <td>0.404115</td>\n",
              "      <td>-0.861098</td>\n",
              "      <td>-0.010143</td>\n",
              "      <td>0.560677</td>\n",
              "      <td>-0.047626</td>\n",
              "      <td>-1.175839</td>\n",
              "      <td>1.929047</td>\n",
              "      <td>-0.285364</td>\n",
              "      <td>-1.050551</td>\n",
              "      <td>-0.535441</td>\n",
              "      <td>1.301362</td>\n",
              "      <td>-0.435039</td>\n",
              "    </tr>\n",
              "    <tr>\n",
              "      <th>9719</th>\n",
              "      <td>0.037715</td>\n",
              "      <td>-0.175541</td>\n",
              "      <td>-0.467904</td>\n",
              "      <td>-0.366297</td>\n",
              "      <td>0.859318</td>\n",
              "      <td>-0.552576</td>\n",
              "      <td>1.161307</td>\n",
              "      <td>-0.010143</td>\n",
              "      <td>0.560677</td>\n",
              "      <td>-0.047626</td>\n",
              "      <td>0.850456</td>\n",
              "      <td>-0.518391</td>\n",
              "      <td>-0.285364</td>\n",
              "      <td>-1.050551</td>\n",
              "      <td>1.867618</td>\n",
              "      <td>-0.768425</td>\n",
              "      <td>-0.435039</td>\n",
              "    </tr>\n",
              "    <tr>\n",
              "      <th>9720</th>\n",
              "      <td>0.368667</td>\n",
              "      <td>-0.488117</td>\n",
              "      <td>-0.467904</td>\n",
              "      <td>-0.366297</td>\n",
              "      <td>-0.601565</td>\n",
              "      <td>-0.437773</td>\n",
              "      <td>-0.861098</td>\n",
              "      <td>-0.010143</td>\n",
              "      <td>0.560677</td>\n",
              "      <td>-0.047626</td>\n",
              "      <td>-1.175839</td>\n",
              "      <td>-0.518391</td>\n",
              "      <td>-0.285364</td>\n",
              "      <td>0.951882</td>\n",
              "      <td>-0.535441</td>\n",
              "      <td>-0.768425</td>\n",
              "      <td>-0.435039</td>\n",
              "    </tr>\n",
              "  </tbody>\n",
              "</table>\n",
              "<p>9721 rows × 17 columns</p>\n",
              "</div>\n",
              "      <button class=\"colab-df-convert\" onclick=\"convertToInteractive('df-c15c1964-ebbf-423e-8be6-397270ad4912')\"\n",
              "              title=\"Convert this dataframe to an interactive table.\"\n",
              "              style=\"display:none;\">\n",
              "        \n",
              "  <svg xmlns=\"http://www.w3.org/2000/svg\" height=\"24px\"viewBox=\"0 0 24 24\"\n",
              "       width=\"24px\">\n",
              "    <path d=\"M0 0h24v24H0V0z\" fill=\"none\"/>\n",
              "    <path d=\"M18.56 5.44l.94 2.06.94-2.06 2.06-.94-2.06-.94-.94-2.06-.94 2.06-2.06.94zm-11 1L8.5 8.5l.94-2.06 2.06-.94-2.06-.94L8.5 2.5l-.94 2.06-2.06.94zm10 10l.94 2.06.94-2.06 2.06-.94-2.06-.94-.94-2.06-.94 2.06-2.06.94z\"/><path d=\"M17.41 7.96l-1.37-1.37c-.4-.4-.92-.59-1.43-.59-.52 0-1.04.2-1.43.59L10.3 9.45l-7.72 7.72c-.78.78-.78 2.05 0 2.83L4 21.41c.39.39.9.59 1.41.59.51 0 1.02-.2 1.41-.59l7.78-7.78 2.81-2.81c.8-.78.8-2.07 0-2.86zM5.41 20L4 18.59l7.72-7.72 1.47 1.35L5.41 20z\"/>\n",
              "  </svg>\n",
              "      </button>\n",
              "      \n",
              "  <style>\n",
              "    .colab-df-container {\n",
              "      display:flex;\n",
              "      flex-wrap:wrap;\n",
              "      gap: 12px;\n",
              "    }\n",
              "\n",
              "    .colab-df-convert {\n",
              "      background-color: #E8F0FE;\n",
              "      border: none;\n",
              "      border-radius: 50%;\n",
              "      cursor: pointer;\n",
              "      display: none;\n",
              "      fill: #1967D2;\n",
              "      height: 32px;\n",
              "      padding: 0 0 0 0;\n",
              "      width: 32px;\n",
              "    }\n",
              "\n",
              "    .colab-df-convert:hover {\n",
              "      background-color: #E2EBFA;\n",
              "      box-shadow: 0px 1px 2px rgba(60, 64, 67, 0.3), 0px 1px 3px 1px rgba(60, 64, 67, 0.15);\n",
              "      fill: #174EA6;\n",
              "    }\n",
              "\n",
              "    [theme=dark] .colab-df-convert {\n",
              "      background-color: #3B4455;\n",
              "      fill: #D2E3FC;\n",
              "    }\n",
              "\n",
              "    [theme=dark] .colab-df-convert:hover {\n",
              "      background-color: #434B5C;\n",
              "      box-shadow: 0px 1px 3px 1px rgba(0, 0, 0, 0.15);\n",
              "      filter: drop-shadow(0px 1px 2px rgba(0, 0, 0, 0.3));\n",
              "      fill: #FFFFFF;\n",
              "    }\n",
              "  </style>\n",
              "\n",
              "      <script>\n",
              "        const buttonEl =\n",
              "          document.querySelector('#df-c15c1964-ebbf-423e-8be6-397270ad4912 button.colab-df-convert');\n",
              "        buttonEl.style.display =\n",
              "          google.colab.kernel.accessAllowed ? 'block' : 'none';\n",
              "\n",
              "        async function convertToInteractive(key) {\n",
              "          const element = document.querySelector('#df-c15c1964-ebbf-423e-8be6-397270ad4912');\n",
              "          const dataTable =\n",
              "            await google.colab.kernel.invokeFunction('convertToInteractive',\n",
              "                                                     [key], {});\n",
              "          if (!dataTable) return;\n",
              "\n",
              "          const docLinkHtml = 'Like what you see? Visit the ' +\n",
              "            '<a target=\"_blank\" href=https://colab.research.google.com/notebooks/data_table.ipynb>data table notebook</a>'\n",
              "            + ' to learn more about interactive tables.';\n",
              "          element.innerHTML = '';\n",
              "          dataTable['output_type'] = 'display_data';\n",
              "          await google.colab.output.renderOutput(dataTable, element);\n",
              "          const docLink = document.createElement('div');\n",
              "          docLink.innerHTML = docLinkHtml;\n",
              "          element.appendChild(docLink);\n",
              "        }\n",
              "      </script>\n",
              "    </div>\n",
              "  </div>\n",
              "  "
            ]
          },
          "metadata": {},
          "execution_count": 53
        }
      ]
    },
    {
      "cell_type": "markdown",
      "source": [
        "###  <font color = 'green'>4.3 <span style='color:#0386f7de'>|</span>Checking Correlation between Input Variables <a id=\"prep\"></a></font>"
      ],
      "metadata": {
        "id": "rwqnNS-AiMDe"
      }
    },
    {
      "cell_type": "code",
      "source": [
        "corr_matrix = X_scaled.corr()\n",
        "corr_matrix"
      ],
      "metadata": {
        "id": "8HEL2frmiKpk",
        "outputId": "9d38e1a0-5468-48a1-f998-ef30c52c116a",
        "colab": {
          "base_uri": "https://localhost:8080/",
          "height": 698
        }
      },
      "execution_count": 54,
      "outputs": [
        {
          "output_type": "execute_result",
          "data": {
            "text/plain": [
              "                                      id       age  hypertension  \\\n",
              "id                              1.000000 -0.010741     -0.024772   \n",
              "age                            -0.010741  1.000000      0.273894   \n",
              "hypertension                   -0.024772  0.273894      1.000000   \n",
              "heart_disease                   0.029102  0.265249      0.079199   \n",
              "avg_glucose_level               0.022379  0.266228      0.170568   \n",
              "bmi_1                           0.020134  0.237954      0.095878   \n",
              "gender_Male                     0.005747  0.014208     -0.009978   \n",
              "gender_Other                    0.009139 -0.013104     -0.004746   \n",
              "ever_married_Yes                0.004173  0.561248      0.090838   \n",
              "work_type_Never_worked          0.003410 -0.082408     -0.022285   \n",
              "work_type_Private               0.020762  0.061557     -0.064721   \n",
              "work_type_Self-employed        -0.048620  0.281698      0.158841   \n",
              "work_type_children              0.007306 -0.612480     -0.133523   \n",
              "Residence_type_Urban           -0.002965  0.028461     -0.018254   \n",
              "smoking_status_formerly smoked  0.012754  0.196057      0.055359   \n",
              "smoking_status_never smoked    -0.018455  0.110008      0.119135   \n",
              "smoking_status_smokes          -0.010456 -0.007829      0.005232   \n",
              "\n",
              "                                heart_disease  avg_glucose_level     bmi_1  \\\n",
              "id                                   0.029102           0.022379  0.020134   \n",
              "age                                  0.265249           0.266228  0.237954   \n",
              "hypertension                         0.079199           0.170568  0.095878   \n",
              "heart_disease                        1.000000           0.254079  0.117529   \n",
              "avg_glucose_level                    0.254079           1.000000  0.196041   \n",
              "bmi_1                                0.117529           0.196041  1.000000   \n",
              "gender_Male                          0.135505           0.120158  0.031123   \n",
              "gender_Other                        -0.003715           0.004516 -0.011815   \n",
              "ever_married_Yes                     0.074705           0.203339  0.274052   \n",
              "work_type_Never_worked              -0.017445          -0.019407 -0.028181   \n",
              "work_type_Private                    0.043027           0.074517  0.149254   \n",
              "work_type_Self-employed              0.000327          -0.012661  0.034593   \n",
              "work_type_children                  -0.103321          -0.134170 -0.381117   \n",
              "Residence_type_Urban                 0.020835           0.019508  0.009618   \n",
              "smoking_status_formerly smoked       0.048804           0.060720  0.105837   \n",
              "smoking_status_never smoked         -0.071825           0.013653  0.039765   \n",
              "smoking_status_smokes                0.116668           0.032908  0.095595   \n",
              "\n",
              "                                gender_Male  gender_Other  ever_married_Yes  \\\n",
              "id                                 0.005747      0.009139          0.004173   \n",
              "age                                0.014208     -0.013104          0.561248   \n",
              "hypertension                      -0.009978     -0.004746          0.090838   \n",
              "heart_disease                      0.135505     -0.003715          0.074705   \n",
              "avg_glucose_level                  0.120158      0.004516          0.203339   \n",
              "bmi_1                              0.031123     -0.011815          0.274052   \n",
              "gender_Male                        1.000000     -0.008734          0.026793   \n",
              "gender_Other                      -0.008734      1.000000         -0.018091   \n",
              "ever_married_Yes                   0.026793     -0.018091          1.000000   \n",
              "work_type_Never_worked             0.007149     -0.000483         -0.084944   \n",
              "work_type_Private                  0.046447      0.008626          0.124690   \n",
              "work_type_Self-employed           -0.041080     -0.005258          0.147230   \n",
              "work_type_children                 0.038892     -0.002894         -0.508964   \n",
              "Residence_type_Urban               0.011884     -0.010656         -0.032942   \n",
              "smoking_status_formerly smoked     0.084372      0.018943          0.184889   \n",
              "smoking_status_never smoked       -0.155724     -0.007794          0.015560   \n",
              "smoking_status_smokes              0.056486     -0.004413          0.090315   \n",
              "\n",
              "                                work_type_Never_worked  work_type_Private  \\\n",
              "id                                            0.003410           0.020762   \n",
              "age                                          -0.082408           0.061557   \n",
              "hypertension                                 -0.022285          -0.064721   \n",
              "heart_disease                                -0.017445           0.043027   \n",
              "avg_glucose_level                            -0.019407           0.074517   \n",
              "bmi_1                                        -0.028181           0.149254   \n",
              "gender_Male                                   0.007149           0.046447   \n",
              "gender_Other                                 -0.000483           0.008626   \n",
              "ever_married_Yes                             -0.084944           0.124690   \n",
              "work_type_Never_worked                        1.000000          -0.056001   \n",
              "work_type_Private                            -0.056001           1.000000   \n",
              "work_type_Self-employed                      -0.024689          -0.609544   \n",
              "work_type_children                           -0.013591          -0.335543   \n",
              "Residence_type_Urban                          0.014990          -0.013974   \n",
              "smoking_status_formerly smoked               -0.025501           0.024590   \n",
              "smoking_status_never smoked                   0.026133           0.008082   \n",
              "smoking_status_smokes                        -0.020719           0.101025   \n",
              "\n",
              "                                work_type_Self-employed  work_type_children  \\\n",
              "id                                            -0.048620            0.007306   \n",
              "age                                            0.281698           -0.612480   \n",
              "hypertension                                   0.158841           -0.133523   \n",
              "heart_disease                                  0.000327           -0.103321   \n",
              "avg_glucose_level                             -0.012661           -0.134170   \n",
              "bmi_1                                          0.034593           -0.381117   \n",
              "gender_Male                                   -0.041080            0.038892   \n",
              "gender_Other                                  -0.005258           -0.002894   \n",
              "ever_married_Yes                               0.147230           -0.508964   \n",
              "work_type_Never_worked                        -0.024689           -0.013591   \n",
              "work_type_Private                             -0.609544           -0.335543   \n",
              "work_type_Self-employed                        1.000000           -0.147930   \n",
              "work_type_children                            -0.147930            1.000000   \n",
              "Residence_type_Urban                           0.002406           -0.010175   \n",
              "smoking_status_formerly smoked                 0.065475           -0.140617   \n",
              "smoking_status_never smoked                    0.078989           -0.175709   \n",
              "smoking_status_smokes                         -0.040379           -0.122013   \n",
              "\n",
              "                                Residence_type_Urban  \\\n",
              "id                                         -0.002965   \n",
              "age                                         0.028461   \n",
              "hypertension                               -0.018254   \n",
              "heart_disease                               0.020835   \n",
              "avg_glucose_level                           0.019508   \n",
              "bmi_1                                       0.009618   \n",
              "gender_Male                                 0.011884   \n",
              "gender_Other                               -0.010656   \n",
              "ever_married_Yes                           -0.032942   \n",
              "work_type_Never_worked                      0.014990   \n",
              "work_type_Private                          -0.013974   \n",
              "work_type_Self-employed                     0.002406   \n",
              "work_type_children                         -0.010175   \n",
              "Residence_type_Urban                        1.000000   \n",
              "smoking_status_formerly smoked             -0.011566   \n",
              "smoking_status_never smoked                -0.035139   \n",
              "smoking_status_smokes                       0.022742   \n",
              "\n",
              "                                smoking_status_formerly smoked  \\\n",
              "id                                                    0.012754   \n",
              "age                                                   0.196057   \n",
              "hypertension                                          0.055359   \n",
              "heart_disease                                         0.048804   \n",
              "avg_glucose_level                                     0.060720   \n",
              "bmi_1                                                 0.105837   \n",
              "gender_Male                                           0.084372   \n",
              "gender_Other                                          0.018943   \n",
              "ever_married_Yes                                      0.184889   \n",
              "work_type_Never_worked                               -0.025501   \n",
              "work_type_Private                                     0.024590   \n",
              "work_type_Self-employed                               0.065475   \n",
              "work_type_children                                   -0.140617   \n",
              "Residence_type_Urban                                 -0.011566   \n",
              "smoking_status_formerly smoked                        1.000000   \n",
              "smoking_status_never smoked                          -0.411447   \n",
              "smoking_status_smokes                                -0.232938   \n",
              "\n",
              "                                smoking_status_never smoked  \\\n",
              "id                                                -0.018455   \n",
              "age                                                0.110008   \n",
              "hypertension                                       0.119135   \n",
              "heart_disease                                     -0.071825   \n",
              "avg_glucose_level                                  0.013653   \n",
              "bmi_1                                              0.039765   \n",
              "gender_Male                                       -0.155724   \n",
              "gender_Other                                      -0.007794   \n",
              "ever_married_Yes                                   0.015560   \n",
              "work_type_Never_worked                             0.026133   \n",
              "work_type_Private                                  0.008082   \n",
              "work_type_Self-employed                            0.078989   \n",
              "work_type_children                                -0.175709   \n",
              "Residence_type_Urban                              -0.035139   \n",
              "smoking_status_formerly smoked                    -0.411447   \n",
              "smoking_status_never smoked                        1.000000   \n",
              "smoking_status_smokes                             -0.334295   \n",
              "\n",
              "                                smoking_status_smokes  \n",
              "id                                          -0.010456  \n",
              "age                                         -0.007829  \n",
              "hypertension                                 0.005232  \n",
              "heart_disease                                0.116668  \n",
              "avg_glucose_level                            0.032908  \n",
              "bmi_1                                        0.095595  \n",
              "gender_Male                                  0.056486  \n",
              "gender_Other                                -0.004413  \n",
              "ever_married_Yes                             0.090315  \n",
              "work_type_Never_worked                      -0.020719  \n",
              "work_type_Private                            0.101025  \n",
              "work_type_Self-employed                     -0.040379  \n",
              "work_type_children                          -0.122013  \n",
              "Residence_type_Urban                         0.022742  \n",
              "smoking_status_formerly smoked              -0.232938  \n",
              "smoking_status_never smoked                 -0.334295  \n",
              "smoking_status_smokes                        1.000000  "
            ],
            "text/html": [
              "\n",
              "  <div id=\"df-f7ba1feb-2843-4dd4-892c-f4980b6fd300\">\n",
              "    <div class=\"colab-df-container\">\n",
              "      <div>\n",
              "<style scoped>\n",
              "    .dataframe tbody tr th:only-of-type {\n",
              "        vertical-align: middle;\n",
              "    }\n",
              "\n",
              "    .dataframe tbody tr th {\n",
              "        vertical-align: top;\n",
              "    }\n",
              "\n",
              "    .dataframe thead th {\n",
              "        text-align: right;\n",
              "    }\n",
              "</style>\n",
              "<table border=\"1\" class=\"dataframe\">\n",
              "  <thead>\n",
              "    <tr style=\"text-align: right;\">\n",
              "      <th></th>\n",
              "      <th>id</th>\n",
              "      <th>age</th>\n",
              "      <th>hypertension</th>\n",
              "      <th>heart_disease</th>\n",
              "      <th>avg_glucose_level</th>\n",
              "      <th>bmi_1</th>\n",
              "      <th>gender_Male</th>\n",
              "      <th>gender_Other</th>\n",
              "      <th>ever_married_Yes</th>\n",
              "      <th>work_type_Never_worked</th>\n",
              "      <th>work_type_Private</th>\n",
              "      <th>work_type_Self-employed</th>\n",
              "      <th>work_type_children</th>\n",
              "      <th>Residence_type_Urban</th>\n",
              "      <th>smoking_status_formerly smoked</th>\n",
              "      <th>smoking_status_never smoked</th>\n",
              "      <th>smoking_status_smokes</th>\n",
              "    </tr>\n",
              "  </thead>\n",
              "  <tbody>\n",
              "    <tr>\n",
              "      <th>id</th>\n",
              "      <td>1.000000</td>\n",
              "      <td>-0.010741</td>\n",
              "      <td>-0.024772</td>\n",
              "      <td>0.029102</td>\n",
              "      <td>0.022379</td>\n",
              "      <td>0.020134</td>\n",
              "      <td>0.005747</td>\n",
              "      <td>0.009139</td>\n",
              "      <td>0.004173</td>\n",
              "      <td>0.003410</td>\n",
              "      <td>0.020762</td>\n",
              "      <td>-0.048620</td>\n",
              "      <td>0.007306</td>\n",
              "      <td>-0.002965</td>\n",
              "      <td>0.012754</td>\n",
              "      <td>-0.018455</td>\n",
              "      <td>-0.010456</td>\n",
              "    </tr>\n",
              "    <tr>\n",
              "      <th>age</th>\n",
              "      <td>-0.010741</td>\n",
              "      <td>1.000000</td>\n",
              "      <td>0.273894</td>\n",
              "      <td>0.265249</td>\n",
              "      <td>0.266228</td>\n",
              "      <td>0.237954</td>\n",
              "      <td>0.014208</td>\n",
              "      <td>-0.013104</td>\n",
              "      <td>0.561248</td>\n",
              "      <td>-0.082408</td>\n",
              "      <td>0.061557</td>\n",
              "      <td>0.281698</td>\n",
              "      <td>-0.612480</td>\n",
              "      <td>0.028461</td>\n",
              "      <td>0.196057</td>\n",
              "      <td>0.110008</td>\n",
              "      <td>-0.007829</td>\n",
              "    </tr>\n",
              "    <tr>\n",
              "      <th>hypertension</th>\n",
              "      <td>-0.024772</td>\n",
              "      <td>0.273894</td>\n",
              "      <td>1.000000</td>\n",
              "      <td>0.079199</td>\n",
              "      <td>0.170568</td>\n",
              "      <td>0.095878</td>\n",
              "      <td>-0.009978</td>\n",
              "      <td>-0.004746</td>\n",
              "      <td>0.090838</td>\n",
              "      <td>-0.022285</td>\n",
              "      <td>-0.064721</td>\n",
              "      <td>0.158841</td>\n",
              "      <td>-0.133523</td>\n",
              "      <td>-0.018254</td>\n",
              "      <td>0.055359</td>\n",
              "      <td>0.119135</td>\n",
              "      <td>0.005232</td>\n",
              "    </tr>\n",
              "    <tr>\n",
              "      <th>heart_disease</th>\n",
              "      <td>0.029102</td>\n",
              "      <td>0.265249</td>\n",
              "      <td>0.079199</td>\n",
              "      <td>1.000000</td>\n",
              "      <td>0.254079</td>\n",
              "      <td>0.117529</td>\n",
              "      <td>0.135505</td>\n",
              "      <td>-0.003715</td>\n",
              "      <td>0.074705</td>\n",
              "      <td>-0.017445</td>\n",
              "      <td>0.043027</td>\n",
              "      <td>0.000327</td>\n",
              "      <td>-0.103321</td>\n",
              "      <td>0.020835</td>\n",
              "      <td>0.048804</td>\n",
              "      <td>-0.071825</td>\n",
              "      <td>0.116668</td>\n",
              "    </tr>\n",
              "    <tr>\n",
              "      <th>avg_glucose_level</th>\n",
              "      <td>0.022379</td>\n",
              "      <td>0.266228</td>\n",
              "      <td>0.170568</td>\n",
              "      <td>0.254079</td>\n",
              "      <td>1.000000</td>\n",
              "      <td>0.196041</td>\n",
              "      <td>0.120158</td>\n",
              "      <td>0.004516</td>\n",
              "      <td>0.203339</td>\n",
              "      <td>-0.019407</td>\n",
              "      <td>0.074517</td>\n",
              "      <td>-0.012661</td>\n",
              "      <td>-0.134170</td>\n",
              "      <td>0.019508</td>\n",
              "      <td>0.060720</td>\n",
              "      <td>0.013653</td>\n",
              "      <td>0.032908</td>\n",
              "    </tr>\n",
              "    <tr>\n",
              "      <th>bmi_1</th>\n",
              "      <td>0.020134</td>\n",
              "      <td>0.237954</td>\n",
              "      <td>0.095878</td>\n",
              "      <td>0.117529</td>\n",
              "      <td>0.196041</td>\n",
              "      <td>1.000000</td>\n",
              "      <td>0.031123</td>\n",
              "      <td>-0.011815</td>\n",
              "      <td>0.274052</td>\n",
              "      <td>-0.028181</td>\n",
              "      <td>0.149254</td>\n",
              "      <td>0.034593</td>\n",
              "      <td>-0.381117</td>\n",
              "      <td>0.009618</td>\n",
              "      <td>0.105837</td>\n",
              "      <td>0.039765</td>\n",
              "      <td>0.095595</td>\n",
              "    </tr>\n",
              "    <tr>\n",
              "      <th>gender_Male</th>\n",
              "      <td>0.005747</td>\n",
              "      <td>0.014208</td>\n",
              "      <td>-0.009978</td>\n",
              "      <td>0.135505</td>\n",
              "      <td>0.120158</td>\n",
              "      <td>0.031123</td>\n",
              "      <td>1.000000</td>\n",
              "      <td>-0.008734</td>\n",
              "      <td>0.026793</td>\n",
              "      <td>0.007149</td>\n",
              "      <td>0.046447</td>\n",
              "      <td>-0.041080</td>\n",
              "      <td>0.038892</td>\n",
              "      <td>0.011884</td>\n",
              "      <td>0.084372</td>\n",
              "      <td>-0.155724</td>\n",
              "      <td>0.056486</td>\n",
              "    </tr>\n",
              "    <tr>\n",
              "      <th>gender_Other</th>\n",
              "      <td>0.009139</td>\n",
              "      <td>-0.013104</td>\n",
              "      <td>-0.004746</td>\n",
              "      <td>-0.003715</td>\n",
              "      <td>0.004516</td>\n",
              "      <td>-0.011815</td>\n",
              "      <td>-0.008734</td>\n",
              "      <td>1.000000</td>\n",
              "      <td>-0.018091</td>\n",
              "      <td>-0.000483</td>\n",
              "      <td>0.008626</td>\n",
              "      <td>-0.005258</td>\n",
              "      <td>-0.002894</td>\n",
              "      <td>-0.010656</td>\n",
              "      <td>0.018943</td>\n",
              "      <td>-0.007794</td>\n",
              "      <td>-0.004413</td>\n",
              "    </tr>\n",
              "    <tr>\n",
              "      <th>ever_married_Yes</th>\n",
              "      <td>0.004173</td>\n",
              "      <td>0.561248</td>\n",
              "      <td>0.090838</td>\n",
              "      <td>0.074705</td>\n",
              "      <td>0.203339</td>\n",
              "      <td>0.274052</td>\n",
              "      <td>0.026793</td>\n",
              "      <td>-0.018091</td>\n",
              "      <td>1.000000</td>\n",
              "      <td>-0.084944</td>\n",
              "      <td>0.124690</td>\n",
              "      <td>0.147230</td>\n",
              "      <td>-0.508964</td>\n",
              "      <td>-0.032942</td>\n",
              "      <td>0.184889</td>\n",
              "      <td>0.015560</td>\n",
              "      <td>0.090315</td>\n",
              "    </tr>\n",
              "    <tr>\n",
              "      <th>work_type_Never_worked</th>\n",
              "      <td>0.003410</td>\n",
              "      <td>-0.082408</td>\n",
              "      <td>-0.022285</td>\n",
              "      <td>-0.017445</td>\n",
              "      <td>-0.019407</td>\n",
              "      <td>-0.028181</td>\n",
              "      <td>0.007149</td>\n",
              "      <td>-0.000483</td>\n",
              "      <td>-0.084944</td>\n",
              "      <td>1.000000</td>\n",
              "      <td>-0.056001</td>\n",
              "      <td>-0.024689</td>\n",
              "      <td>-0.013591</td>\n",
              "      <td>0.014990</td>\n",
              "      <td>-0.025501</td>\n",
              "      <td>0.026133</td>\n",
              "      <td>-0.020719</td>\n",
              "    </tr>\n",
              "    <tr>\n",
              "      <th>work_type_Private</th>\n",
              "      <td>0.020762</td>\n",
              "      <td>0.061557</td>\n",
              "      <td>-0.064721</td>\n",
              "      <td>0.043027</td>\n",
              "      <td>0.074517</td>\n",
              "      <td>0.149254</td>\n",
              "      <td>0.046447</td>\n",
              "      <td>0.008626</td>\n",
              "      <td>0.124690</td>\n",
              "      <td>-0.056001</td>\n",
              "      <td>1.000000</td>\n",
              "      <td>-0.609544</td>\n",
              "      <td>-0.335543</td>\n",
              "      <td>-0.013974</td>\n",
              "      <td>0.024590</td>\n",
              "      <td>0.008082</td>\n",
              "      <td>0.101025</td>\n",
              "    </tr>\n",
              "    <tr>\n",
              "      <th>work_type_Self-employed</th>\n",
              "      <td>-0.048620</td>\n",
              "      <td>0.281698</td>\n",
              "      <td>0.158841</td>\n",
              "      <td>0.000327</td>\n",
              "      <td>-0.012661</td>\n",
              "      <td>0.034593</td>\n",
              "      <td>-0.041080</td>\n",
              "      <td>-0.005258</td>\n",
              "      <td>0.147230</td>\n",
              "      <td>-0.024689</td>\n",
              "      <td>-0.609544</td>\n",
              "      <td>1.000000</td>\n",
              "      <td>-0.147930</td>\n",
              "      <td>0.002406</td>\n",
              "      <td>0.065475</td>\n",
              "      <td>0.078989</td>\n",
              "      <td>-0.040379</td>\n",
              "    </tr>\n",
              "    <tr>\n",
              "      <th>work_type_children</th>\n",
              "      <td>0.007306</td>\n",
              "      <td>-0.612480</td>\n",
              "      <td>-0.133523</td>\n",
              "      <td>-0.103321</td>\n",
              "      <td>-0.134170</td>\n",
              "      <td>-0.381117</td>\n",
              "      <td>0.038892</td>\n",
              "      <td>-0.002894</td>\n",
              "      <td>-0.508964</td>\n",
              "      <td>-0.013591</td>\n",
              "      <td>-0.335543</td>\n",
              "      <td>-0.147930</td>\n",
              "      <td>1.000000</td>\n",
              "      <td>-0.010175</td>\n",
              "      <td>-0.140617</td>\n",
              "      <td>-0.175709</td>\n",
              "      <td>-0.122013</td>\n",
              "    </tr>\n",
              "    <tr>\n",
              "      <th>Residence_type_Urban</th>\n",
              "      <td>-0.002965</td>\n",
              "      <td>0.028461</td>\n",
              "      <td>-0.018254</td>\n",
              "      <td>0.020835</td>\n",
              "      <td>0.019508</td>\n",
              "      <td>0.009618</td>\n",
              "      <td>0.011884</td>\n",
              "      <td>-0.010656</td>\n",
              "      <td>-0.032942</td>\n",
              "      <td>0.014990</td>\n",
              "      <td>-0.013974</td>\n",
              "      <td>0.002406</td>\n",
              "      <td>-0.010175</td>\n",
              "      <td>1.000000</td>\n",
              "      <td>-0.011566</td>\n",
              "      <td>-0.035139</td>\n",
              "      <td>0.022742</td>\n",
              "    </tr>\n",
              "    <tr>\n",
              "      <th>smoking_status_formerly smoked</th>\n",
              "      <td>0.012754</td>\n",
              "      <td>0.196057</td>\n",
              "      <td>0.055359</td>\n",
              "      <td>0.048804</td>\n",
              "      <td>0.060720</td>\n",
              "      <td>0.105837</td>\n",
              "      <td>0.084372</td>\n",
              "      <td>0.018943</td>\n",
              "      <td>0.184889</td>\n",
              "      <td>-0.025501</td>\n",
              "      <td>0.024590</td>\n",
              "      <td>0.065475</td>\n",
              "      <td>-0.140617</td>\n",
              "      <td>-0.011566</td>\n",
              "      <td>1.000000</td>\n",
              "      <td>-0.411447</td>\n",
              "      <td>-0.232938</td>\n",
              "    </tr>\n",
              "    <tr>\n",
              "      <th>smoking_status_never smoked</th>\n",
              "      <td>-0.018455</td>\n",
              "      <td>0.110008</td>\n",
              "      <td>0.119135</td>\n",
              "      <td>-0.071825</td>\n",
              "      <td>0.013653</td>\n",
              "      <td>0.039765</td>\n",
              "      <td>-0.155724</td>\n",
              "      <td>-0.007794</td>\n",
              "      <td>0.015560</td>\n",
              "      <td>0.026133</td>\n",
              "      <td>0.008082</td>\n",
              "      <td>0.078989</td>\n",
              "      <td>-0.175709</td>\n",
              "      <td>-0.035139</td>\n",
              "      <td>-0.411447</td>\n",
              "      <td>1.000000</td>\n",
              "      <td>-0.334295</td>\n",
              "    </tr>\n",
              "    <tr>\n",
              "      <th>smoking_status_smokes</th>\n",
              "      <td>-0.010456</td>\n",
              "      <td>-0.007829</td>\n",
              "      <td>0.005232</td>\n",
              "      <td>0.116668</td>\n",
              "      <td>0.032908</td>\n",
              "      <td>0.095595</td>\n",
              "      <td>0.056486</td>\n",
              "      <td>-0.004413</td>\n",
              "      <td>0.090315</td>\n",
              "      <td>-0.020719</td>\n",
              "      <td>0.101025</td>\n",
              "      <td>-0.040379</td>\n",
              "      <td>-0.122013</td>\n",
              "      <td>0.022742</td>\n",
              "      <td>-0.232938</td>\n",
              "      <td>-0.334295</td>\n",
              "      <td>1.000000</td>\n",
              "    </tr>\n",
              "  </tbody>\n",
              "</table>\n",
              "</div>\n",
              "      <button class=\"colab-df-convert\" onclick=\"convertToInteractive('df-f7ba1feb-2843-4dd4-892c-f4980b6fd300')\"\n",
              "              title=\"Convert this dataframe to an interactive table.\"\n",
              "              style=\"display:none;\">\n",
              "        \n",
              "  <svg xmlns=\"http://www.w3.org/2000/svg\" height=\"24px\"viewBox=\"0 0 24 24\"\n",
              "       width=\"24px\">\n",
              "    <path d=\"M0 0h24v24H0V0z\" fill=\"none\"/>\n",
              "    <path d=\"M18.56 5.44l.94 2.06.94-2.06 2.06-.94-2.06-.94-.94-2.06-.94 2.06-2.06.94zm-11 1L8.5 8.5l.94-2.06 2.06-.94-2.06-.94L8.5 2.5l-.94 2.06-2.06.94zm10 10l.94 2.06.94-2.06 2.06-.94-2.06-.94-.94-2.06-.94 2.06-2.06.94z\"/><path d=\"M17.41 7.96l-1.37-1.37c-.4-.4-.92-.59-1.43-.59-.52 0-1.04.2-1.43.59L10.3 9.45l-7.72 7.72c-.78.78-.78 2.05 0 2.83L4 21.41c.39.39.9.59 1.41.59.51 0 1.02-.2 1.41-.59l7.78-7.78 2.81-2.81c.8-.78.8-2.07 0-2.86zM5.41 20L4 18.59l7.72-7.72 1.47 1.35L5.41 20z\"/>\n",
              "  </svg>\n",
              "      </button>\n",
              "      \n",
              "  <style>\n",
              "    .colab-df-container {\n",
              "      display:flex;\n",
              "      flex-wrap:wrap;\n",
              "      gap: 12px;\n",
              "    }\n",
              "\n",
              "    .colab-df-convert {\n",
              "      background-color: #E8F0FE;\n",
              "      border: none;\n",
              "      border-radius: 50%;\n",
              "      cursor: pointer;\n",
              "      display: none;\n",
              "      fill: #1967D2;\n",
              "      height: 32px;\n",
              "      padding: 0 0 0 0;\n",
              "      width: 32px;\n",
              "    }\n",
              "\n",
              "    .colab-df-convert:hover {\n",
              "      background-color: #E2EBFA;\n",
              "      box-shadow: 0px 1px 2px rgba(60, 64, 67, 0.3), 0px 1px 3px 1px rgba(60, 64, 67, 0.15);\n",
              "      fill: #174EA6;\n",
              "    }\n",
              "\n",
              "    [theme=dark] .colab-df-convert {\n",
              "      background-color: #3B4455;\n",
              "      fill: #D2E3FC;\n",
              "    }\n",
              "\n",
              "    [theme=dark] .colab-df-convert:hover {\n",
              "      background-color: #434B5C;\n",
              "      box-shadow: 0px 1px 3px 1px rgba(0, 0, 0, 0.15);\n",
              "      filter: drop-shadow(0px 1px 2px rgba(0, 0, 0, 0.3));\n",
              "      fill: #FFFFFF;\n",
              "    }\n",
              "  </style>\n",
              "\n",
              "      <script>\n",
              "        const buttonEl =\n",
              "          document.querySelector('#df-f7ba1feb-2843-4dd4-892c-f4980b6fd300 button.colab-df-convert');\n",
              "        buttonEl.style.display =\n",
              "          google.colab.kernel.accessAllowed ? 'block' : 'none';\n",
              "\n",
              "        async function convertToInteractive(key) {\n",
              "          const element = document.querySelector('#df-f7ba1feb-2843-4dd4-892c-f4980b6fd300');\n",
              "          const dataTable =\n",
              "            await google.colab.kernel.invokeFunction('convertToInteractive',\n",
              "                                                     [key], {});\n",
              "          if (!dataTable) return;\n",
              "\n",
              "          const docLinkHtml = 'Like what you see? Visit the ' +\n",
              "            '<a target=\"_blank\" href=https://colab.research.google.com/notebooks/data_table.ipynb>data table notebook</a>'\n",
              "            + ' to learn more about interactive tables.';\n",
              "          element.innerHTML = '';\n",
              "          dataTable['output_type'] = 'display_data';\n",
              "          await google.colab.output.renderOutput(dataTable, element);\n",
              "          const docLink = document.createElement('div');\n",
              "          docLink.innerHTML = docLinkHtml;\n",
              "          element.appendChild(docLink);\n",
              "        }\n",
              "      </script>\n",
              "    </div>\n",
              "  </div>\n",
              "  "
            ]
          },
          "metadata": {},
          "execution_count": 54
        }
      ]
    },
    {
      "cell_type": "code",
      "source": [
        "plt.figure(figsize=(15,8))\n",
        "sns.heatmap(corr_matrix,annot=True,cmap=\"YlGnBu\")    ## Heat map \n",
        "plt.show()"
      ],
      "metadata": {
        "id": "bB_zrjtmisaB",
        "outputId": "0c471747-7f79-4e1f-a9d0-b38ab674bfdd",
        "colab": {
          "base_uri": "https://localhost:8080/",
          "height": 644
        }
      },
      "execution_count": 55,
      "outputs": [
        {
          "output_type": "display_data",
          "data": {
            "text/plain": [
              "<Figure size 1080x576 with 2 Axes>"
            ],
            "image/png": "[encoded data removed]"
          },
          "metadata": {
            "needs_background": "light"
          }
        }
      ]
    },
    {
      "cell_type": "markdown",
      "source": [
        "###  <font color = 'green'> 4.4<span style='color:#0386f7de'>|</span> Splitting data into train & test set <a id=\"prep\"></a></font>"
      ],
      "metadata": {
        "id": "GIKgAEp9wO17"
      }
    },
    {
      "cell_type": "code",
      "source": [
        "X_train,X_test,y_train,y_test = train_test_split(X_scaled, y, random_state = 12, stratify = y )"
      ],
      "metadata": {
        "id": "zdo3R5esyd77"
      },
      "execution_count": 56,
      "outputs": []
    },
    {
      "cell_type": "code",
      "source": [
        "X_train.shape,X_test.shape,y_train.shape,y_test.shape"
      ],
      "metadata": {
        "id": "kf24kWNU0VvG",
        "outputId": "b684cbd9-b6df-4b80-936c-d4c64c8465f2",
        "colab": {
          "base_uri": "https://localhost:8080/"
        }
      },
      "execution_count": 57,
      "outputs": [
        {
          "output_type": "execute_result",
          "data": {
            "text/plain": [
              "((7290, 17), (2431, 17), (7290, 1), (2431, 1))"
            ]
          },
          "metadata": {},
          "execution_count": 57
        }
      ]
    },
    {
      "cell_type": "markdown",
      "source": [
        "##  <font color = 'blue'><b>5 <span style='color:#0386f7de'>|</span> Model Building <a id=\"prep\"></a></font>"
      ],
      "metadata": {
        "id": "MOO9hl0xze3_"
      }
    },
    {
      "cell_type": "markdown",
      "source": [
        "###  <font color = 'green'>5.1 <span style='color:#0386f7de'>|</span> Logistic Regression <a id=\"prep\"></a></font>"
      ],
      "metadata": {
        "id": "oXMJFAa0dA-p"
      }
    },
    {
      "cell_type": "code",
      "source": [
        "logistic_model = LogisticRegression()    ## Importing Model \n",
        "logistic_model.fit(X_train,y_train)"
      ],
      "metadata": {
        "id": "3Z46FXGgdAU_",
        "outputId": "47b8ad6b-1254-47a0-b044-7179e3ad896f",
        "colab": {
          "base_uri": "https://localhost:8080/"
        }
      },
      "execution_count": 58,
      "outputs": [
        {
          "output_type": "execute_result",
          "data": {
            "text/plain": [
              "LogisticRegression()"
            ]
          },
          "metadata": {},
          "execution_count": 58
        }
      ]
    },
    {
      "cell_type": "code",
      "source": [
        "logistic_pred_train = logistic_model.predict(X_train)    ## Predicting the model for training data\n",
        "print('Accuracy Score                 :',round(accuracy_score(y_train,logistic_pred_train),4))\n",
        "print('Precision Score                :',round(precision_score(y_train,logistic_pred_train),4))\n",
        "print('Recall Score                   :',round(recall_score(y_train,logistic_pred_train),4))\n",
        "print('Confusion Matrix               :\\n',confusion_matrix(y_train,logistic_pred_train))\n",
        "print('Classification Report          :\\n',classification_report(y_train,logistic_pred_train))"
      ],
      "metadata": {
        "id": "3LUB1lNA0RyA",
        "outputId": "7bc2367a-4500-4e2d-e3b8-8481fca8d737",
        "colab": {
          "base_uri": "https://localhost:8080/"
        }
      },
      "execution_count": 59,
      "outputs": [
        {
          "output_type": "stream",
          "name": "stdout",
          "text": [
            "Accuracy Score                 : 0.7785\n",
            "Precision Score                : 0.7583\n",
            "Recall Score                   : 0.8176\n",
            "Confusion Matrix               :\n",
            " [[2695  950]\n",
            " [ 665 2980]]\n",
            "Classification Report          :\n",
            "               precision    recall  f1-score   support\n",
            "\n",
            "           0       0.80      0.74      0.77      3645\n",
            "           1       0.76      0.82      0.79      3645\n",
            "\n",
            "    accuracy                           0.78      7290\n",
            "   macro avg       0.78      0.78      0.78      7290\n",
            "weighted avg       0.78      0.78      0.78      7290\n",
            "\n"
          ]
        }
      ]
    },
    {
      "cell_type": "code",
      "source": [
        "logistic_pred_test = logistic_model.predict(X_test)   ## Predicting the model for test data\n",
        "print('Accuracy Score                 :',round(accuracy_score(y_test,logistic_pred_test),4))\n",
        "print('Precision Score                :',round(precision_score(y_test,logistic_pred_test),4))\n",
        "print('Recall Score                   :',round(recall_score(y_test,logistic_pred_test),4))\n",
        "print('Confusion Matrix               :\\n',confusion_matrix(y_test,logistic_pred_test))\n",
        "print('Classification Report          :\\n',classification_report(y_test,logistic_pred_test))"
      ],
      "metadata": {
        "id": "ukNosw7W0RvQ",
        "outputId": "e6c7324f-6f41-4906-8d78-a204083bbb68",
        "colab": {
          "base_uri": "https://localhost:8080/"
        }
      },
      "execution_count": 60,
      "outputs": [
        {
          "output_type": "stream",
          "name": "stdout",
          "text": [
            "Accuracy Score                 : 0.7729\n",
            "Precision Score                : 0.7509\n",
            "Recall Score                   : 0.8165\n",
            "Confusion Matrix               :\n",
            " [[887 329]\n",
            " [223 992]]\n",
            "Classification Report          :\n",
            "               precision    recall  f1-score   support\n",
            "\n",
            "           0       0.80      0.73      0.76      1216\n",
            "           1       0.75      0.82      0.78      1215\n",
            "\n",
            "    accuracy                           0.77      2431\n",
            "   macro avg       0.78      0.77      0.77      2431\n",
            "weighted avg       0.78      0.77      0.77      2431\n",
            "\n"
          ]
        }
      ]
    },
    {
      "cell_type": "code",
      "source": [
        "fpr, tpr, thresholds = roc_curve(y_test,logistic_model.predict_proba (X_test)[:,1])\n",
        "auc_score = roc_auc_score(y_test, logistic_pred_test)                             \n",
        "print('Area Under Curve     :',auc_score)                                            ## AUC-ROC curve(performance measurement for the classification problems at various threshold)\n",
        "plt.plot(fpr, tpr, color='red', label='logit model ( area  = %0.2f)'%auc_score)\n",
        "plt.plot([0, 1], [0, 1], 'k--')\n",
        "plt.xlabel('False Positive Rate or [1 - True Negative Rate]')\n",
        "plt.ylabel('True Positive Rate')"
      ],
      "metadata": {
        "id": "JYKC_ucU0Rsy",
        "outputId": "81815f00-4d0b-48c2-a0b3-5cbf401e1c65",
        "colab": {
          "base_uri": "https://localhost:8080/",
          "height": 314
        }
      },
      "execution_count": 61,
      "outputs": [
        {
          "output_type": "stream",
          "name": "stdout",
          "text": [
            "Area Under Curve     : 0.7729508474117394\n"
          ]
        },
        {
          "output_type": "execute_result",
          "data": {
            "text/plain": [
              "Text(0, 0.5, 'True Positive Rate')"
            ]
          },
          "metadata": {},
          "execution_count": 61
        },
        {
          "output_type": "display_data",
          "data": {
            "text/plain": [
              "<Figure size 432x288 with 1 Axes>"
            ],
            "image/png": "[encoded data removed]"
          },
          "metadata": {
            "needs_background": "light"
          }
        }
      ]
    },
    {
      "cell_type": "markdown",
      "source": [
        "###  <font color = 'green'>5.2 <span style='color:#0386f7de'>|</span> Decision Tree<a id=\"prep\"></a></font>"
      ],
      "metadata": {
        "id": "FkR1AKTL62Ch"
      }
    },
    {
      "cell_type": "code",
      "source": [],
      "metadata": {
        "id": "yYibUZa6OVJt"
      },
      "execution_count": 61,
      "outputs": []
    }
  ]
}